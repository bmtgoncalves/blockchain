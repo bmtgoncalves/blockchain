{
 "cells": [
  {
   "cell_type": "markdown",
   "metadata": {},
   "source": [
    "<h1 align=\"center\">Block Statistics</h1>\n",
    "<h2 align=\"center\">Bruno Gonçalves</h2>\n",
    "<h4 align=\"center\">bgoncalves@gmail.com</h4>\n",
    "<h4 align=\"center\">@bgoncalves</h4>"
   ]
  },
  {
   "cell_type": "code",
   "execution_count": 1,
   "metadata": {
    "collapsed": true
   },
   "outputs": [],
   "source": [
    "import gzip\n",
    "import numpy as np\n",
    "import pandas as pd\n",
    "import sys\n",
    "import igraph\n",
    "from tqdm import tqdm \n",
    "import pickle\n",
    "import os\n",
    "import numpy as np\n",
    "from pprint import pprint\n",
    "\n",
    "import matplotlib.pyplot as plt\n",
    "%matplotlib inline"
   ]
  },
  {
   "cell_type": "markdown",
   "metadata": {},
   "source": [
    "# Graph Analysis"
   ]
  },
  {
   "cell_type": "markdown",
   "metadata": {},
   "source": [
    "In principle, the blockchain is just that, a chain. However, since there is no central authority coordinating the efforts of the miners we sometimes end up with two blocks competing for validation at the same time. This results in a temporary fork in the chain. After one of the two competing blocks gets a successor, the losing candidate block is automatically invalidated and its transactions get returned to the mempool."
   ]
  },
  {
   "cell_type": "code",
   "execution_count": 2,
   "metadata": {},
   "outputs": [],
   "source": [
    "G = igraph.Graph()\n",
    "blocks = {}\n",
    "\n",
    "line_count = 0\n",
    "block_count = 0\n",
    "\n",
    "if os.path.exists(\"data/undirected.pickle\"):\n",
    "    G = igraph.read(\"data/undirected.pickle\")\n",
    "    blocks = pickle.load(open(\"data/blocks.pickle\", \"rb\"))\n",
    "else:\n",
    "    for line in tqdm(gzip.open('data/blocks.dat.gz', 'rt'), total=566015):\n",
    "        fields = line.strip().split()\n",
    "\n",
    "        line_count += 1\n",
    "\n",
    "        if line_count == 1:\n",
    "            continue\n",
    "\n",
    "        # block_count timestamp hash previous_block_hash n_transactions txid reward difficulty bits nonce size\n",
    "        timestamp = fields[1]\n",
    "        node_i = fields[2]\n",
    "        node_j = fields[3]\n",
    "        ntranx = int(fields[4])\n",
    "        size = int(fields[-1])\n",
    "\n",
    "        if node_j not in blocks:\n",
    "            blocks[node_j] = block_count\n",
    "            block_count += 1\n",
    "            node_j = blocks[node_j]\n",
    "            G.add_vertex(node_j)\n",
    "        else:\n",
    "            node_j = blocks[node_j]\n",
    "\n",
    "        if node_i not in blocks:\n",
    "            blocks[node_i] = block_count\n",
    "            block_count += 1\n",
    "            node_i = blocks[node_i]\n",
    "            G.add_vertex(node_i)\n",
    "        else:\n",
    "            node_i = blocks[node_i]\n",
    "\n",
    "        G.vs[node_i][\"prev\"] = node_j,\n",
    "        G.vs[node_i][\"timestamp\"] = timestamp,\n",
    "        G.vs[node_i][\"ntrax\"] = ntranx,\n",
    "        G.vs[node_i][\"size\"] = size\n",
    "\n",
    "        G.add_edge(node_i, node_j)\n",
    "    \n",
    "    G.save('data/undirected.pickle', 'pickle')\n",
    "    pickle.dump(blocks, open(\"data/blocks.pickle\", \"wb\"))"
   ]
  },
  {
   "cell_type": "code",
   "execution_count": 3,
   "metadata": {},
   "outputs": [
    {
     "data": {
      "text/plain": [
       "'IGRAPH UN-- 566015 566014 -- \\n+ attr: name (v), ntrax (v), prev (v), size (v), timestamp (v)'"
      ]
     },
     "execution_count": 3,
     "metadata": {},
     "output_type": "execute_result"
    }
   ],
   "source": [
    "G.summary()"
   ]
  },
  {
   "cell_type": "markdown",
   "metadata": {},
   "source": [
    "Here we generated a graph containing all the blocks in order to identify which ones need to be removed. Blocks at the end of a chain have degree 1 (only connecting to the previous block and without any blocks connected to them)."
   ]
  },
  {
   "cell_type": "code",
   "execution_count": 4,
   "metadata": {
    "collapsed": true
   },
   "outputs": [],
   "source": [
    "degrees = np.array(G.degree()) # The degree of each block\n",
    "ids = np.array(G.vs[\"name\"]) # Unique id\n",
    "\n",
    "dangling = ids[degrees<2] # leaves have degree 1.\n",
    "dangling = dangling[1:-1] # Remove root and most recent leaf"
   ]
  },
  {
   "cell_type": "markdown",
   "metadata": {},
   "source": [
    "Starting from these leaf blocks we traverse the graph back until we reach a block with degree higher than two. This is the branch block (one connection to a parent block and at least two child blocks)."
   ]
  },
  {
   "cell_type": "code",
   "execution_count": 5,
   "metadata": {
    "collapsed": true
   },
   "outputs": [],
   "source": [
    "remove = []\n",
    "branches = []\n",
    "\n",
    "for count, source in enumerate(dangling):\n",
    "    current = source\n",
    "    branches.append([])\n",
    "\n",
    "    while degrees[current] <=2:\n",
    "        branches[-1].append(current)\n",
    "        remove.append(current)\n",
    "        current = G.vs[current][\"prev\"][0] "
   ]
  },
  {
   "cell_type": "markdown",
   "metadata": {},
   "source": [
    "Turns out that all we have are single blocks. There are no parallel chains of greater length."
   ]
  },
  {
   "cell_type": "code",
   "execution_count": 6,
   "metadata": {},
   "outputs": [
    {
     "data": {
      "text/plain": [
       "True"
      ]
     },
     "execution_count": 6,
     "metadata": {},
     "output_type": "execute_result"
    }
   ],
   "source": [
    "len(remove) == len(branches)"
   ]
  },
  {
   "cell_type": "code",
   "execution_count": 7,
   "metadata": {
    "collapsed": true
   },
   "outputs": [],
   "source": [
    "G.delete_vertices(remove)"
   ]
  },
  {
   "cell_type": "markdown",
   "metadata": {},
   "source": [
    "After we remove the extraneous blocks, we find that we have $N$ nodes connected by $N-1$ edges. A perfect chain."
   ]
  },
  {
   "cell_type": "code",
   "execution_count": 8,
   "metadata": {},
   "outputs": [
    {
     "data": {
      "text/plain": [
       "'IGRAPH UN-- 565964 565963 -- \\n+ attr: name (v), ntrax (v), prev (v), size (v), timestamp (v)'"
      ]
     },
     "execution_count": 8,
     "metadata": {},
     "output_type": "execute_result"
    }
   ],
   "source": [
    "G.summary()"
   ]
  },
  {
   "cell_type": "code",
   "execution_count": 9,
   "metadata": {
    "collapsed": true
   },
   "outputs": [],
   "source": [
    "block_ids = [item[0] for item in blocks.items() if item[1] not in remove]"
   ]
  },
  {
   "cell_type": "code",
   "execution_count": 10,
   "metadata": {},
   "outputs": [
    {
     "data": {
      "text/plain": [
       "565964"
      ]
     },
     "execution_count": 10,
     "metadata": {},
     "output_type": "execute_result"
    }
   ],
   "source": [
    "len(block_ids)"
   ]
  },
  {
   "cell_type": "markdown",
   "metadata": {},
   "source": [
    "Now we have a list with all the valid block_ids"
   ]
  },
  {
   "cell_type": "code",
   "execution_count": 11,
   "metadata": {},
   "outputs": [
    {
     "name": "stdout",
     "output_type": "stream",
     "text": [
      "['000000000000000014f035809d43342b01429fda057cd732e4e94ac31e6366c9',\n",
      " '000000000000000004f62eeb625ddf5604eb9c3d9e5f214b643d23be2b83a99c',\n",
      " '00000000085d61d0e44bccb3b45ef0e663b7818f208de971e1a1d92ef93527ac',\n",
      " '0000000000000133e4a7a0b81ebec34ef1d08aaf3bd112da7da57d12ab6e3f56',\n",
      " '000000000000000001222a0ace167734e89ce18e3fc4ca2d2dc10de4f79bf090',\n",
      " '0000000029c59cf52945cd4e23f06b5e7a70e3361466e7463e063de0cd6b4011',\n",
      " '000000000050ec83b2473393ddaca2a48e39acd808e660363872638f61c49a06',\n",
      " '000000000000000002d15306bca1a5292627b570f67426d94f1eec6353bbfd65',\n",
      " '00000000000b41b56e2fe3889c3599eece26dee667df0602bb33a2495ea468be',\n",
      " '000000003aa678921553576d379ae43724c5d019b0c012391a955e045bcdc608']\n"
     ]
    }
   ],
   "source": [
    "pprint(block_ids[:10])"
   ]
  },
  {
   "cell_type": "markdown",
   "metadata": {},
   "source": [
    "however, this list still contains the Coinbase block, so we must remove it:"
   ]
  },
  {
   "cell_type": "code",
   "execution_count": 12,
   "metadata": {},
   "outputs": [
    {
     "data": {
      "text/plain": [
       "True"
      ]
     },
     "execution_count": 12,
     "metadata": {},
     "output_type": "execute_result"
    }
   ],
   "source": [
    "'0000000000000000000000000000000000000000000000000000000000000000' in block_ids"
   ]
  },
  {
   "cell_type": "code",
   "execution_count": 13,
   "metadata": {
    "collapsed": true
   },
   "outputs": [],
   "source": [
    "block_ids.remove('0000000000000000000000000000000000000000000000000000000000000000')"
   ]
  },
  {
   "cell_type": "markdown",
   "metadata": {},
   "source": [
    "# Clean dataset"
   ]
  },
  {
   "cell_type": "markdown",
   "metadata": {},
   "source": [
    "With the list of valid blocks in hand, we can now filter out all the relevant data. Let's start by rereading the original file"
   ]
  },
  {
   "cell_type": "code",
   "execution_count": 14,
   "metadata": {
    "collapsed": true
   },
   "outputs": [],
   "source": [
    "data = pd.read_csv('data/blocks.dat.gz', sep=' ', index_col=0)"
   ]
  },
  {
   "cell_type": "markdown",
   "metadata": {},
   "source": [
    "Let's take a look to make sure everything is ok"
   ]
  },
  {
   "cell_type": "code",
   "execution_count": 15,
   "metadata": {},
   "outputs": [
    {
     "data": {
      "text/html": [
       "<div>\n",
       "<style scoped>\n",
       "    .dataframe tbody tr th:only-of-type {\n",
       "        vertical-align: middle;\n",
       "    }\n",
       "\n",
       "    .dataframe tbody tr th {\n",
       "        vertical-align: top;\n",
       "    }\n",
       "\n",
       "    .dataframe thead th {\n",
       "        text-align: right;\n",
       "    }\n",
       "</style>\n",
       "<table border=\"1\" class=\"dataframe\">\n",
       "  <thead>\n",
       "    <tr style=\"text-align: right;\">\n",
       "      <th></th>\n",
       "      <th>timestamp</th>\n",
       "      <th>hash</th>\n",
       "      <th>previous_block_hash</th>\n",
       "      <th>n_transactions</th>\n",
       "      <th>txid</th>\n",
       "      <th>reward</th>\n",
       "      <th>difficulty</th>\n",
       "      <th>bits</th>\n",
       "      <th>nonce</th>\n",
       "      <th>size</th>\n",
       "    </tr>\n",
       "    <tr>\n",
       "      <th>block_count</th>\n",
       "      <th></th>\n",
       "      <th></th>\n",
       "      <th></th>\n",
       "      <th></th>\n",
       "      <th></th>\n",
       "      <th></th>\n",
       "      <th></th>\n",
       "      <th></th>\n",
       "      <th></th>\n",
       "      <th></th>\n",
       "    </tr>\n",
       "  </thead>\n",
       "  <tbody>\n",
       "    <tr>\n",
       "      <th>0</th>\n",
       "      <td>1231006505</td>\n",
       "      <td>000000000019d6689c085ae165831e934ff763ae46a2a6...</td>\n",
       "      <td>0000000000000000000000000000000000000000000000...</td>\n",
       "      <td>1</td>\n",
       "      <td>4a5e1e4baab89f3a32518a88c31bc87f618f76673e2cc7...</td>\n",
       "      <td>5000000000</td>\n",
       "      <td>1.0</td>\n",
       "      <td>486604799</td>\n",
       "      <td>2083236893</td>\n",
       "      <td>285</td>\n",
       "    </tr>\n",
       "    <tr>\n",
       "      <th>1</th>\n",
       "      <td>1231469665</td>\n",
       "      <td>00000000839a8e6886ab5951d76f411475428afc90947e...</td>\n",
       "      <td>000000000019d6689c085ae165831e934ff763ae46a2a6...</td>\n",
       "      <td>1</td>\n",
       "      <td>0e3e2357e806b6cdb1f70b54c3a3a17b6714ee1f0e68be...</td>\n",
       "      <td>5000000000</td>\n",
       "      <td>1.0</td>\n",
       "      <td>486604799</td>\n",
       "      <td>2573394689</td>\n",
       "      <td>215</td>\n",
       "    </tr>\n",
       "    <tr>\n",
       "      <th>2</th>\n",
       "      <td>1231469744</td>\n",
       "      <td>000000006a625f06636b8bb6ac7b960a8d03705d1ace08...</td>\n",
       "      <td>00000000839a8e6886ab5951d76f411475428afc90947e...</td>\n",
       "      <td>1</td>\n",
       "      <td>9b0fc92260312ce44e74ef369f5c66bbb85848f2eddd5a...</td>\n",
       "      <td>5000000000</td>\n",
       "      <td>1.0</td>\n",
       "      <td>486604799</td>\n",
       "      <td>1639830024</td>\n",
       "      <td>215</td>\n",
       "    </tr>\n",
       "    <tr>\n",
       "      <th>3</th>\n",
       "      <td>1231470173</td>\n",
       "      <td>0000000082b5015589a3fdf2d4baff403e6f0be035a5d9...</td>\n",
       "      <td>000000006a625f06636b8bb6ac7b960a8d03705d1ace08...</td>\n",
       "      <td>1</td>\n",
       "      <td>999e1c837c76a1b7fbb7e57baf87b309960f5ffefbf2a9...</td>\n",
       "      <td>5000000000</td>\n",
       "      <td>1.0</td>\n",
       "      <td>486604799</td>\n",
       "      <td>1844305925</td>\n",
       "      <td>215</td>\n",
       "    </tr>\n",
       "    <tr>\n",
       "      <th>4</th>\n",
       "      <td>1231470988</td>\n",
       "      <td>000000004ebadb55ee9096c9a2f8880e09da59c0d68b1c...</td>\n",
       "      <td>0000000082b5015589a3fdf2d4baff403e6f0be035a5d9...</td>\n",
       "      <td>1</td>\n",
       "      <td>df2b060fa2e5e9c8ed5eaf6a45c13753ec8c63282b2688...</td>\n",
       "      <td>5000000000</td>\n",
       "      <td>1.0</td>\n",
       "      <td>486604799</td>\n",
       "      <td>2850094635</td>\n",
       "      <td>215</td>\n",
       "    </tr>\n",
       "  </tbody>\n",
       "</table>\n",
       "</div>"
      ],
      "text/plain": [
       "              timestamp                                               hash  \\\n",
       "block_count                                                                  \n",
       "0            1231006505  000000000019d6689c085ae165831e934ff763ae46a2a6...   \n",
       "1            1231469665  00000000839a8e6886ab5951d76f411475428afc90947e...   \n",
       "2            1231469744  000000006a625f06636b8bb6ac7b960a8d03705d1ace08...   \n",
       "3            1231470173  0000000082b5015589a3fdf2d4baff403e6f0be035a5d9...   \n",
       "4            1231470988  000000004ebadb55ee9096c9a2f8880e09da59c0d68b1c...   \n",
       "\n",
       "                                           previous_block_hash  \\\n",
       "block_count                                                      \n",
       "0            0000000000000000000000000000000000000000000000...   \n",
       "1            000000000019d6689c085ae165831e934ff763ae46a2a6...   \n",
       "2            00000000839a8e6886ab5951d76f411475428afc90947e...   \n",
       "3            000000006a625f06636b8bb6ac7b960a8d03705d1ace08...   \n",
       "4            0000000082b5015589a3fdf2d4baff403e6f0be035a5d9...   \n",
       "\n",
       "             n_transactions  \\\n",
       "block_count                   \n",
       "0                         1   \n",
       "1                         1   \n",
       "2                         1   \n",
       "3                         1   \n",
       "4                         1   \n",
       "\n",
       "                                                          txid      reward  \\\n",
       "block_count                                                                  \n",
       "0            4a5e1e4baab89f3a32518a88c31bc87f618f76673e2cc7...  5000000000   \n",
       "1            0e3e2357e806b6cdb1f70b54c3a3a17b6714ee1f0e68be...  5000000000   \n",
       "2            9b0fc92260312ce44e74ef369f5c66bbb85848f2eddd5a...  5000000000   \n",
       "3            999e1c837c76a1b7fbb7e57baf87b309960f5ffefbf2a9...  5000000000   \n",
       "4            df2b060fa2e5e9c8ed5eaf6a45c13753ec8c63282b2688...  5000000000   \n",
       "\n",
       "             difficulty       bits       nonce  size  \n",
       "block_count                                           \n",
       "0                   1.0  486604799  2083236893   285  \n",
       "1                   1.0  486604799  2573394689   215  \n",
       "2                   1.0  486604799  1639830024   215  \n",
       "3                   1.0  486604799  1844305925   215  \n",
       "4                   1.0  486604799  2850094635   215  "
      ]
     },
     "execution_count": 15,
     "metadata": {},
     "output_type": "execute_result"
    }
   ],
   "source": [
    "data.head()"
   ]
  },
  {
   "cell_type": "code",
   "execution_count": 16,
   "metadata": {},
   "outputs": [
    {
     "data": {
      "text/plain": [
       "timestamp                int64\n",
       "hash                    object\n",
       "previous_block_hash     object\n",
       "n_transactions           int64\n",
       "txid                    object\n",
       "reward                   int64\n",
       "difficulty             float64\n",
       "bits                     int64\n",
       "nonce                    int64\n",
       "size                     int64\n",
       "dtype: object"
      ]
     },
     "execution_count": 16,
     "metadata": {},
     "output_type": "execute_result"
    }
   ],
   "source": [
    "data.dtypes"
   ]
  },
  {
   "cell_type": "code",
   "execution_count": 17,
   "metadata": {},
   "outputs": [
    {
     "data": {
      "text/plain": [
       "(566014, 10)"
      ]
     },
     "execution_count": 17,
     "metadata": {},
     "output_type": "execute_result"
    }
   ],
   "source": [
    "data.shape"
   ]
  },
  {
   "cell_type": "markdown",
   "metadata": {},
   "source": [
    "## Remove dangling blocks"
   ]
  },
  {
   "cell_type": "markdown",
   "metadata": {},
   "source": [
    "Now we keep only the good block_ids"
   ]
  },
  {
   "cell_type": "code",
   "execution_count": 18,
   "metadata": {
    "collapsed": true
   },
   "outputs": [],
   "source": [
    "data = data.set_index('hash').reindex(block_ids).reset_index().dropna()"
   ]
  },
  {
   "cell_type": "code",
   "execution_count": 19,
   "metadata": {},
   "outputs": [
    {
     "data": {
      "text/html": [
       "<div>\n",
       "<style scoped>\n",
       "    .dataframe tbody tr th:only-of-type {\n",
       "        vertical-align: middle;\n",
       "    }\n",
       "\n",
       "    .dataframe tbody tr th {\n",
       "        vertical-align: top;\n",
       "    }\n",
       "\n",
       "    .dataframe thead th {\n",
       "        text-align: right;\n",
       "    }\n",
       "</style>\n",
       "<table border=\"1\" class=\"dataframe\">\n",
       "  <thead>\n",
       "    <tr style=\"text-align: right;\">\n",
       "      <th></th>\n",
       "      <th>hash</th>\n",
       "      <th>timestamp</th>\n",
       "      <th>previous_block_hash</th>\n",
       "      <th>n_transactions</th>\n",
       "      <th>txid</th>\n",
       "      <th>reward</th>\n",
       "      <th>difficulty</th>\n",
       "      <th>bits</th>\n",
       "      <th>nonce</th>\n",
       "      <th>size</th>\n",
       "    </tr>\n",
       "  </thead>\n",
       "  <tbody>\n",
       "    <tr>\n",
       "      <th>0</th>\n",
       "      <td>000000000000000014f035809d43342b01429fda057cd7...</td>\n",
       "      <td>1438369075</td>\n",
       "      <td>0000000000000000033973c397d77b5de3e3501042177b...</td>\n",
       "      <td>654</td>\n",
       "      <td>96f96f72ee1f0a609ae1a0adf4728b9591c53d01a8aef8...</td>\n",
       "      <td>2521352323</td>\n",
       "      <td>5.227830e+10</td>\n",
       "      <td>404031509</td>\n",
       "      <td>1097880399</td>\n",
       "      <td>853084</td>\n",
       "    </tr>\n",
       "    <tr>\n",
       "      <th>1</th>\n",
       "      <td>000000000000000004f62eeb625ddf5604eb9c3d9e5f21...</td>\n",
       "      <td>1461074578</td>\n",
       "      <td>000000000000000003cc3d3e5b5d9b577b83c2b8d6f425...</td>\n",
       "      <td>2120</td>\n",
       "      <td>52eb8e16b382a50cf3e9895b925eb8db6951ee5c3aa750...</td>\n",
       "      <td>2552119529</td>\n",
       "      <td>1.786783e+11</td>\n",
       "      <td>403056459</td>\n",
       "      <td>2781516474</td>\n",
       "      <td>989234</td>\n",
       "    </tr>\n",
       "    <tr>\n",
       "      <th>2</th>\n",
       "      <td>00000000085d61d0e44bccb3b45ef0e663b7818f208de9...</td>\n",
       "      <td>1270867229</td>\n",
       "      <td>00000000000baa2535da5b293bcad7c43ab386f7b87af5...</td>\n",
       "      <td>1</td>\n",
       "      <td>7afd1e1a075deeb116fd69375dd8cf435de99038ceb711...</td>\n",
       "      <td>5000000000</td>\n",
       "      <td>6.085477e+00</td>\n",
       "      <td>472518933</td>\n",
       "      <td>80198865</td>\n",
       "      <td>216</td>\n",
       "    </tr>\n",
       "    <tr>\n",
       "      <th>3</th>\n",
       "      <td>0000000000000133e4a7a0b81ebec34ef1d08aaf3bd112...</td>\n",
       "      <td>1318616185</td>\n",
       "      <td>00000000000001b4d7dab8171a22a1ea8f5777436105f3...</td>\n",
       "      <td>174</td>\n",
       "      <td>301bca69ef48e3be290bc04bf7454cb05df897911fa6a0...</td>\n",
       "      <td>5001351893</td>\n",
       "      <td>1.468195e+06</td>\n",
       "      <td>436956491</td>\n",
       "      <td>1683000459</td>\n",
       "      <td>47528</td>\n",
       "    </tr>\n",
       "    <tr>\n",
       "      <th>4</th>\n",
       "      <td>000000000000000001222a0ace167734e89ce18e3fc4ca...</td>\n",
       "      <td>1460455048</td>\n",
       "      <td>000000000000000003c7baa5143b33d13e3e32378f3fa1...</td>\n",
       "      <td>2487</td>\n",
       "      <td>8ad5f834b08ad560f7d2e433bb244b0ff3ad3426228672...</td>\n",
       "      <td>2554606267</td>\n",
       "      <td>1.668515e+11</td>\n",
       "      <td>403085044</td>\n",
       "      <td>3396673074</td>\n",
       "      <td>998162</td>\n",
       "    </tr>\n",
       "  </tbody>\n",
       "</table>\n",
       "</div>"
      ],
      "text/plain": [
       "                                                hash   timestamp  \\\n",
       "0  000000000000000014f035809d43342b01429fda057cd7...  1438369075   \n",
       "1  000000000000000004f62eeb625ddf5604eb9c3d9e5f21...  1461074578   \n",
       "2  00000000085d61d0e44bccb3b45ef0e663b7818f208de9...  1270867229   \n",
       "3  0000000000000133e4a7a0b81ebec34ef1d08aaf3bd112...  1318616185   \n",
       "4  000000000000000001222a0ace167734e89ce18e3fc4ca...  1460455048   \n",
       "\n",
       "                                 previous_block_hash  n_transactions  \\\n",
       "0  0000000000000000033973c397d77b5de3e3501042177b...             654   \n",
       "1  000000000000000003cc3d3e5b5d9b577b83c2b8d6f425...            2120   \n",
       "2  00000000000baa2535da5b293bcad7c43ab386f7b87af5...               1   \n",
       "3  00000000000001b4d7dab8171a22a1ea8f5777436105f3...             174   \n",
       "4  000000000000000003c7baa5143b33d13e3e32378f3fa1...            2487   \n",
       "\n",
       "                                                txid      reward  \\\n",
       "0  96f96f72ee1f0a609ae1a0adf4728b9591c53d01a8aef8...  2521352323   \n",
       "1  52eb8e16b382a50cf3e9895b925eb8db6951ee5c3aa750...  2552119529   \n",
       "2  7afd1e1a075deeb116fd69375dd8cf435de99038ceb711...  5000000000   \n",
       "3  301bca69ef48e3be290bc04bf7454cb05df897911fa6a0...  5001351893   \n",
       "4  8ad5f834b08ad560f7d2e433bb244b0ff3ad3426228672...  2554606267   \n",
       "\n",
       "     difficulty       bits       nonce    size  \n",
       "0  5.227830e+10  404031509  1097880399  853084  \n",
       "1  1.786783e+11  403056459  2781516474  989234  \n",
       "2  6.085477e+00  472518933    80198865     216  \n",
       "3  1.468195e+06  436956491  1683000459   47528  \n",
       "4  1.668515e+11  403085044  3396673074  998162  "
      ]
     },
     "execution_count": 19,
     "metadata": {},
     "output_type": "execute_result"
    }
   ],
   "source": [
    "data.head()"
   ]
  },
  {
   "cell_type": "code",
   "execution_count": 20,
   "metadata": {},
   "outputs": [
    {
     "data": {
      "text/plain": [
       "(565963, 10)"
      ]
     },
     "execution_count": 20,
     "metadata": {},
     "output_type": "execute_result"
    }
   ],
   "source": [
    "data.shape"
   ]
  },
  {
   "cell_type": "markdown",
   "metadata": {},
   "source": [
    "Now we make sure that the blocks are sorted by timestamp and assign to each a sequential block-height"
   ]
  },
  {
   "cell_type": "code",
   "execution_count": 21,
   "metadata": {
    "collapsed": true
   },
   "outputs": [],
   "source": [
    "data = data.sort_values(\"timestamp\", ascending=True)\n",
    "data[\"height\"] = np.arange(data.shape[0])"
   ]
  },
  {
   "cell_type": "markdown",
   "metadata": {},
   "source": [
    "And we check that the corresponding height is correctly assigned. From [bitcoin.com](https://www.blockchain.com/btc/block-height/150000) we know that the hash of block at height 556875 is *[0000000000000000002f64b2e9d0883eae4abf36cbd4cf536d90ed2102b07e40](https://www.blockchain.com/btc/block-height/556875)*. "
   ]
  },
  {
   "cell_type": "code",
   "execution_count": 22,
   "metadata": {},
   "outputs": [
    {
     "data": {
      "text/plain": [
       "300952    True\n",
       "Name: hash, dtype: bool"
      ]
     },
     "execution_count": 22,
     "metadata": {},
     "output_type": "execute_result"
    }
   ],
   "source": [
    "data.loc[data[\"height\"] == 556875, \"hash\"] == \"0000000000000000002f64b2e9d0883eae4abf36cbd4cf536d90ed2102b07e40\""
   ]
  },
  {
   "cell_type": "markdown",
   "metadata": {},
   "source": [
    "Now we turn the data frame into a timeseries by converting the timestamp to a datetime object and assigning it to the index"
   ]
  },
  {
   "cell_type": "code",
   "execution_count": 23,
   "metadata": {
    "collapsed": true
   },
   "outputs": [],
   "source": [
    "data.index = pd.to_datetime(data['timestamp'].astype('int'), unit='s')"
   ]
  },
  {
   "cell_type": "code",
   "execution_count": 24,
   "metadata": {},
   "outputs": [
    {
     "data": {
      "text/html": [
       "<div>\n",
       "<style scoped>\n",
       "    .dataframe tbody tr th:only-of-type {\n",
       "        vertical-align: middle;\n",
       "    }\n",
       "\n",
       "    .dataframe tbody tr th {\n",
       "        vertical-align: top;\n",
       "    }\n",
       "\n",
       "    .dataframe thead th {\n",
       "        text-align: right;\n",
       "    }\n",
       "</style>\n",
       "<table border=\"1\" class=\"dataframe\">\n",
       "  <thead>\n",
       "    <tr style=\"text-align: right;\">\n",
       "      <th></th>\n",
       "      <th>hash</th>\n",
       "      <th>timestamp</th>\n",
       "      <th>previous_block_hash</th>\n",
       "      <th>n_transactions</th>\n",
       "      <th>txid</th>\n",
       "      <th>reward</th>\n",
       "      <th>difficulty</th>\n",
       "      <th>bits</th>\n",
       "      <th>nonce</th>\n",
       "      <th>size</th>\n",
       "      <th>height</th>\n",
       "    </tr>\n",
       "    <tr>\n",
       "      <th>timestamp</th>\n",
       "      <th></th>\n",
       "      <th></th>\n",
       "      <th></th>\n",
       "      <th></th>\n",
       "      <th></th>\n",
       "      <th></th>\n",
       "      <th></th>\n",
       "      <th></th>\n",
       "      <th></th>\n",
       "      <th></th>\n",
       "      <th></th>\n",
       "    </tr>\n",
       "  </thead>\n",
       "  <tbody>\n",
       "    <tr>\n",
       "      <th>2009-01-03 18:15:05</th>\n",
       "      <td>000000000019d6689c085ae165831e934ff763ae46a2a6...</td>\n",
       "      <td>1231006505</td>\n",
       "      <td>0000000000000000000000000000000000000000000000...</td>\n",
       "      <td>1</td>\n",
       "      <td>4a5e1e4baab89f3a32518a88c31bc87f618f76673e2cc7...</td>\n",
       "      <td>5000000000</td>\n",
       "      <td>1.0</td>\n",
       "      <td>486604799</td>\n",
       "      <td>2083236893</td>\n",
       "      <td>285</td>\n",
       "      <td>0</td>\n",
       "    </tr>\n",
       "    <tr>\n",
       "      <th>2009-01-09 02:54:25</th>\n",
       "      <td>00000000839a8e6886ab5951d76f411475428afc90947e...</td>\n",
       "      <td>1231469665</td>\n",
       "      <td>000000000019d6689c085ae165831e934ff763ae46a2a6...</td>\n",
       "      <td>1</td>\n",
       "      <td>0e3e2357e806b6cdb1f70b54c3a3a17b6714ee1f0e68be...</td>\n",
       "      <td>5000000000</td>\n",
       "      <td>1.0</td>\n",
       "      <td>486604799</td>\n",
       "      <td>2573394689</td>\n",
       "      <td>215</td>\n",
       "      <td>1</td>\n",
       "    </tr>\n",
       "    <tr>\n",
       "      <th>2009-01-09 02:55:44</th>\n",
       "      <td>000000006a625f06636b8bb6ac7b960a8d03705d1ace08...</td>\n",
       "      <td>1231469744</td>\n",
       "      <td>00000000839a8e6886ab5951d76f411475428afc90947e...</td>\n",
       "      <td>1</td>\n",
       "      <td>9b0fc92260312ce44e74ef369f5c66bbb85848f2eddd5a...</td>\n",
       "      <td>5000000000</td>\n",
       "      <td>1.0</td>\n",
       "      <td>486604799</td>\n",
       "      <td>1639830024</td>\n",
       "      <td>215</td>\n",
       "      <td>2</td>\n",
       "    </tr>\n",
       "    <tr>\n",
       "      <th>2009-01-09 03:02:53</th>\n",
       "      <td>0000000082b5015589a3fdf2d4baff403e6f0be035a5d9...</td>\n",
       "      <td>1231470173</td>\n",
       "      <td>000000006a625f06636b8bb6ac7b960a8d03705d1ace08...</td>\n",
       "      <td>1</td>\n",
       "      <td>999e1c837c76a1b7fbb7e57baf87b309960f5ffefbf2a9...</td>\n",
       "      <td>5000000000</td>\n",
       "      <td>1.0</td>\n",
       "      <td>486604799</td>\n",
       "      <td>1844305925</td>\n",
       "      <td>215</td>\n",
       "      <td>3</td>\n",
       "    </tr>\n",
       "    <tr>\n",
       "      <th>2009-01-09 03:16:28</th>\n",
       "      <td>000000004ebadb55ee9096c9a2f8880e09da59c0d68b1c...</td>\n",
       "      <td>1231470988</td>\n",
       "      <td>0000000082b5015589a3fdf2d4baff403e6f0be035a5d9...</td>\n",
       "      <td>1</td>\n",
       "      <td>df2b060fa2e5e9c8ed5eaf6a45c13753ec8c63282b2688...</td>\n",
       "      <td>5000000000</td>\n",
       "      <td>1.0</td>\n",
       "      <td>486604799</td>\n",
       "      <td>2850094635</td>\n",
       "      <td>215</td>\n",
       "      <td>4</td>\n",
       "    </tr>\n",
       "  </tbody>\n",
       "</table>\n",
       "</div>"
      ],
      "text/plain": [
       "                                                                  hash  \\\n",
       "timestamp                                                                \n",
       "2009-01-03 18:15:05  000000000019d6689c085ae165831e934ff763ae46a2a6...   \n",
       "2009-01-09 02:54:25  00000000839a8e6886ab5951d76f411475428afc90947e...   \n",
       "2009-01-09 02:55:44  000000006a625f06636b8bb6ac7b960a8d03705d1ace08...   \n",
       "2009-01-09 03:02:53  0000000082b5015589a3fdf2d4baff403e6f0be035a5d9...   \n",
       "2009-01-09 03:16:28  000000004ebadb55ee9096c9a2f8880e09da59c0d68b1c...   \n",
       "\n",
       "                      timestamp  \\\n",
       "timestamp                         \n",
       "2009-01-03 18:15:05  1231006505   \n",
       "2009-01-09 02:54:25  1231469665   \n",
       "2009-01-09 02:55:44  1231469744   \n",
       "2009-01-09 03:02:53  1231470173   \n",
       "2009-01-09 03:16:28  1231470988   \n",
       "\n",
       "                                                   previous_block_hash  \\\n",
       "timestamp                                                                \n",
       "2009-01-03 18:15:05  0000000000000000000000000000000000000000000000...   \n",
       "2009-01-09 02:54:25  000000000019d6689c085ae165831e934ff763ae46a2a6...   \n",
       "2009-01-09 02:55:44  00000000839a8e6886ab5951d76f411475428afc90947e...   \n",
       "2009-01-09 03:02:53  000000006a625f06636b8bb6ac7b960a8d03705d1ace08...   \n",
       "2009-01-09 03:16:28  0000000082b5015589a3fdf2d4baff403e6f0be035a5d9...   \n",
       "\n",
       "                     n_transactions  \\\n",
       "timestamp                             \n",
       "2009-01-03 18:15:05               1   \n",
       "2009-01-09 02:54:25               1   \n",
       "2009-01-09 02:55:44               1   \n",
       "2009-01-09 03:02:53               1   \n",
       "2009-01-09 03:16:28               1   \n",
       "\n",
       "                                                                  txid  \\\n",
       "timestamp                                                                \n",
       "2009-01-03 18:15:05  4a5e1e4baab89f3a32518a88c31bc87f618f76673e2cc7...   \n",
       "2009-01-09 02:54:25  0e3e2357e806b6cdb1f70b54c3a3a17b6714ee1f0e68be...   \n",
       "2009-01-09 02:55:44  9b0fc92260312ce44e74ef369f5c66bbb85848f2eddd5a...   \n",
       "2009-01-09 03:02:53  999e1c837c76a1b7fbb7e57baf87b309960f5ffefbf2a9...   \n",
       "2009-01-09 03:16:28  df2b060fa2e5e9c8ed5eaf6a45c13753ec8c63282b2688...   \n",
       "\n",
       "                         reward  difficulty       bits       nonce  size  \\\n",
       "timestamp                                                                  \n",
       "2009-01-03 18:15:05  5000000000         1.0  486604799  2083236893   285   \n",
       "2009-01-09 02:54:25  5000000000         1.0  486604799  2573394689   215   \n",
       "2009-01-09 02:55:44  5000000000         1.0  486604799  1639830024   215   \n",
       "2009-01-09 03:02:53  5000000000         1.0  486604799  1844305925   215   \n",
       "2009-01-09 03:16:28  5000000000         1.0  486604799  2850094635   215   \n",
       "\n",
       "                     height  \n",
       "timestamp                    \n",
       "2009-01-03 18:15:05       0  \n",
       "2009-01-09 02:54:25       1  \n",
       "2009-01-09 02:55:44       2  \n",
       "2009-01-09 03:02:53       3  \n",
       "2009-01-09 03:16:28       4  "
      ]
     },
     "execution_count": 24,
     "metadata": {},
     "output_type": "execute_result"
    }
   ],
   "source": [
    "data.head()"
   ]
  },
  {
   "cell_type": "markdown",
   "metadata": {},
   "source": [
    "Now we can easily see that block 556875 is the 10 year anniversary block. It was mined almost exactly 10 years after the Genesis block"
   ]
  },
  {
   "cell_type": "code",
   "execution_count": 25,
   "metadata": {},
   "outputs": [
    {
     "name": "stdout",
     "output_type": "stream",
     "text": [
      "DatetimeIndex(['2009-01-03 18:15:05'], dtype='datetime64[ns]', name='timestamp', freq=None)\n",
      "DatetimeIndex(['2019-01-03 18:19:56'], dtype='datetime64[ns]', name='timestamp', freq=None)\n"
     ]
    }
   ],
   "source": [
    "print(data.loc[data[\"height\"] == 0].index)\n",
    "print(data.loc[data[\"height\"] == 556875].index)"
   ]
  },
  {
   "cell_type": "markdown",
   "metadata": {},
   "source": [
    "# Timeseries"
   ]
  },
  {
   "cell_type": "markdown",
   "metadata": {},
   "source": [
    "With the block data formulated as a timeseries, we can do some pretty interesting stuff already. For example, plot the total number of transactions per month alongside the average block size (x10 for plotting convenience):"
   ]
  },
  {
   "cell_type": "code",
   "execution_count": 26,
   "metadata": {},
   "outputs": [
    {
     "data": {
      "image/png": "[encoded data removed]",
      "text/plain": [
       "<Figure size 1008x720 with 1 Axes>"
      ]
     },
     "metadata": {},
     "output_type": "display_data"
    }
   ],
   "source": [
    "data[['n_transactions']].resample('M').sum().plot()\n",
    "(data[['size']].resample('M').mean()*10).plot(ax=plt.gca())\n",
    "plt.gcf().set_size_inches(14,10)"
   ]
  },
  {
   "cell_type": "markdown",
   "metadata": {},
   "source": [
    "From this plot it's already clear that the block size is impacting the maximum number of transactions that can be handled by Bitcoin. The peak at the end of 2017 was do to the last Bitcoin bubble where it hit $20,000"
   ]
  },
  {
   "cell_type": "markdown",
   "metadata": {},
   "source": [
    "Now we load the bitcoin prices obtained from [coinmarketcap](https://coinmarketcap.com/currencies/bitcoin/)"
   ]
  },
  {
   "cell_type": "code",
   "execution_count": 27,
   "metadata": {},
   "outputs": [],
   "source": [
    "bitcoin = pd.read_csv('data/bitcoin.csv', parse_dates=['Date'], index_col=0)"
   ]
  },
  {
   "cell_type": "code",
   "execution_count": 28,
   "metadata": {},
   "outputs": [
    {
     "data": {
      "text/html": [
       "<div>\n",
       "<style scoped>\n",
       "    .dataframe tbody tr th:only-of-type {\n",
       "        vertical-align: middle;\n",
       "    }\n",
       "\n",
       "    .dataframe tbody tr th {\n",
       "        vertical-align: top;\n",
       "    }\n",
       "\n",
       "    .dataframe thead th {\n",
       "        text-align: right;\n",
       "    }\n",
       "</style>\n",
       "<table border=\"1\" class=\"dataframe\">\n",
       "  <thead>\n",
       "    <tr style=\"text-align: right;\">\n",
       "      <th></th>\n",
       "      <th>Open*</th>\n",
       "      <th>High</th>\n",
       "      <th>Low</th>\n",
       "      <th>Close**</th>\n",
       "      <th>Volume</th>\n",
       "      <th>Market Cap</th>\n",
       "    </tr>\n",
       "    <tr>\n",
       "      <th>Date</th>\n",
       "      <th></th>\n",
       "      <th></th>\n",
       "      <th></th>\n",
       "      <th></th>\n",
       "      <th></th>\n",
       "      <th></th>\n",
       "    </tr>\n",
       "  </thead>\n",
       "  <tbody>\n",
       "    <tr>\n",
       "      <th>2019-03-20</th>\n",
       "      <td>4070.79</td>\n",
       "      <td>4089.46</td>\n",
       "      <td>4031.11</td>\n",
       "      <td>4087.48</td>\n",
       "      <td>10175916388</td>\n",
       "      <td>71942444088</td>\n",
       "    </tr>\n",
       "    <tr>\n",
       "      <th>2019-03-19</th>\n",
       "      <td>4032.69</td>\n",
       "      <td>4082.22</td>\n",
       "      <td>4023.81</td>\n",
       "      <td>4071.19</td>\n",
       "      <td>9344919956</td>\n",
       "      <td>71647703828</td>\n",
       "    </tr>\n",
       "    <tr>\n",
       "      <th>2019-03-18</th>\n",
       "      <td>4029.97</td>\n",
       "      <td>4071.56</td>\n",
       "      <td>4009.12</td>\n",
       "      <td>4032.51</td>\n",
       "      <td>9646954186</td>\n",
       "      <td>70958165407</td>\n",
       "    </tr>\n",
       "    <tr>\n",
       "      <th>2019-03-17</th>\n",
       "      <td>4047.72</td>\n",
       "      <td>4054.12</td>\n",
       "      <td>4006.41</td>\n",
       "      <td>4025.23</td>\n",
       "      <td>8221625400</td>\n",
       "      <td>70821939585</td>\n",
       "    </tr>\n",
       "    <tr>\n",
       "      <th>2019-03-16</th>\n",
       "      <td>3963.90</td>\n",
       "      <td>4077.04</td>\n",
       "      <td>3961.66</td>\n",
       "      <td>4048.73</td>\n",
       "      <td>9856166973</td>\n",
       "      <td>71227967573</td>\n",
       "    </tr>\n",
       "  </tbody>\n",
       "</table>\n",
       "</div>"
      ],
      "text/plain": [
       "              Open*     High      Low  Close**       Volume   Market Cap\n",
       "Date                                                                    \n",
       "2019-03-20  4070.79  4089.46  4031.11  4087.48  10175916388  71942444088\n",
       "2019-03-19  4032.69  4082.22  4023.81  4071.19   9344919956  71647703828\n",
       "2019-03-18  4029.97  4071.56  4009.12  4032.51   9646954186  70958165407\n",
       "2019-03-17  4047.72  4054.12  4006.41  4025.23   8221625400  70821939585\n",
       "2019-03-16  3963.90  4077.04  3961.66  4048.73   9856166973  71227967573"
      ]
     },
     "execution_count": 28,
     "metadata": {},
     "output_type": "execute_result"
    }
   ],
   "source": [
    "bitcoin.head()"
   ]
  },
  {
   "cell_type": "markdown",
   "metadata": {},
   "source": [
    "Unfortunately, this data is only reported at the day level and doesn't cover the entire span we are interested in:"
   ]
  },
  {
   "cell_type": "code",
   "execution_count": 29,
   "metadata": {},
   "outputs": [
    {
     "data": {
      "text/plain": [
       "Timestamp('2013-04-28 00:00:00')"
      ]
     },
     "execution_count": 29,
     "metadata": {},
     "output_type": "execute_result"
    }
   ],
   "source": [
    "bitcoin.index.min()"
   ]
  },
  {
   "cell_type": "markdown",
   "metadata": {},
   "source": [
    "On the bright side, we can easily map our block information to this level of resolution to make the comparison easier"
   ]
  },
  {
   "cell_type": "code",
   "execution_count": 30,
   "metadata": {
    "collapsed": true
   },
   "outputs": [],
   "source": [
    "bitcoin = bitcoin.join(data['size'].resample('D').mean())\n",
    "bitcoin = bitcoin.join(data['n_transactions'].resample('D').sum())\n",
    "bitcoin = bitcoin.join(data['reward'].resample('D').mean())\n",
    "bitcoin = bitcoin.join(data['difficulty'].resample('D').mean())\n",
    "bitcoin = bitcoin.dropna() #NaNs are introduced since the price data include more recent days than the block data"
   ]
  },
  {
   "cell_type": "code",
   "execution_count": 31,
   "metadata": {},
   "outputs": [
    {
     "data": {
      "text/html": [
       "<div>\n",
       "<style scoped>\n",
       "    .dataframe tbody tr th:only-of-type {\n",
       "        vertical-align: middle;\n",
       "    }\n",
       "\n",
       "    .dataframe tbody tr th {\n",
       "        vertical-align: top;\n",
       "    }\n",
       "\n",
       "    .dataframe thead th {\n",
       "        text-align: right;\n",
       "    }\n",
       "</style>\n",
       "<table border=\"1\" class=\"dataframe\">\n",
       "  <thead>\n",
       "    <tr style=\"text-align: right;\">\n",
       "      <th></th>\n",
       "      <th>Open*</th>\n",
       "      <th>High</th>\n",
       "      <th>Low</th>\n",
       "      <th>Close**</th>\n",
       "      <th>Volume</th>\n",
       "      <th>Market Cap</th>\n",
       "      <th>size</th>\n",
       "      <th>n_transactions</th>\n",
       "      <th>reward</th>\n",
       "      <th>difficulty</th>\n",
       "    </tr>\n",
       "    <tr>\n",
       "      <th>Date</th>\n",
       "      <th></th>\n",
       "      <th></th>\n",
       "      <th></th>\n",
       "      <th></th>\n",
       "      <th></th>\n",
       "      <th></th>\n",
       "      <th></th>\n",
       "      <th></th>\n",
       "      <th></th>\n",
       "      <th></th>\n",
       "    </tr>\n",
       "  </thead>\n",
       "  <tbody>\n",
       "    <tr>\n",
       "      <th>2019-03-06</th>\n",
       "      <td>3897.08</td>\n",
       "      <td>3919.51</td>\n",
       "      <td>3871.46</td>\n",
       "      <td>3903.94</td>\n",
       "      <td>9175291529</td>\n",
       "      <td>68609885776</td>\n",
       "      <td>1.235649e+06</td>\n",
       "      <td>277863.0</td>\n",
       "      <td>1.279759e+09</td>\n",
       "      <td>6.071846e+12</td>\n",
       "    </tr>\n",
       "    <tr>\n",
       "      <th>2019-03-05</th>\n",
       "      <td>3759.83</td>\n",
       "      <td>3903.92</td>\n",
       "      <td>3745.18</td>\n",
       "      <td>3896.38</td>\n",
       "      <td>10174126415</td>\n",
       "      <td>68470655400</td>\n",
       "      <td>1.029825e+06</td>\n",
       "      <td>285716.0</td>\n",
       "      <td>1.269403e+09</td>\n",
       "      <td>6.071846e+12</td>\n",
       "    </tr>\n",
       "    <tr>\n",
       "      <th>2019-03-04</th>\n",
       "      <td>3845.09</td>\n",
       "      <td>3867.38</td>\n",
       "      <td>3733.75</td>\n",
       "      <td>3761.56</td>\n",
       "      <td>9029175788</td>\n",
       "      <td>66094551587</td>\n",
       "      <td>1.104754e+06</td>\n",
       "      <td>304188.0</td>\n",
       "      <td>1.261377e+09</td>\n",
       "      <td>6.071846e+12</td>\n",
       "    </tr>\n",
       "    <tr>\n",
       "      <th>2019-03-03</th>\n",
       "      <td>3862.27</td>\n",
       "      <td>3875.48</td>\n",
       "      <td>3836.91</td>\n",
       "      <td>3847.18</td>\n",
       "      <td>7253558152</td>\n",
       "      <td>67592376373</td>\n",
       "      <td>1.003580e+06</td>\n",
       "      <td>353683.0</td>\n",
       "      <td>1.264413e+09</td>\n",
       "      <td>6.071846e+12</td>\n",
       "    </tr>\n",
       "    <tr>\n",
       "      <th>2019-03-02</th>\n",
       "      <td>3855.32</td>\n",
       "      <td>3874.61</td>\n",
       "      <td>3832.13</td>\n",
       "      <td>3864.42</td>\n",
       "      <td>7578786076</td>\n",
       "      <td>67888255371</td>\n",
       "      <td>1.155579e+06</td>\n",
       "      <td>335864.0</td>\n",
       "      <td>1.269010e+09</td>\n",
       "      <td>6.071846e+12</td>\n",
       "    </tr>\n",
       "  </tbody>\n",
       "</table>\n",
       "</div>"
      ],
      "text/plain": [
       "              Open*     High      Low  Close**       Volume   Market Cap  \\\n",
       "Date                                                                       \n",
       "2019-03-06  3897.08  3919.51  3871.46  3903.94   9175291529  68609885776   \n",
       "2019-03-05  3759.83  3903.92  3745.18  3896.38  10174126415  68470655400   \n",
       "2019-03-04  3845.09  3867.38  3733.75  3761.56   9029175788  66094551587   \n",
       "2019-03-03  3862.27  3875.48  3836.91  3847.18   7253558152  67592376373   \n",
       "2019-03-02  3855.32  3874.61  3832.13  3864.42   7578786076  67888255371   \n",
       "\n",
       "                    size  n_transactions        reward    difficulty  \n",
       "Date                                                                  \n",
       "2019-03-06  1.235649e+06        277863.0  1.279759e+09  6.071846e+12  \n",
       "2019-03-05  1.029825e+06        285716.0  1.269403e+09  6.071846e+12  \n",
       "2019-03-04  1.104754e+06        304188.0  1.261377e+09  6.071846e+12  \n",
       "2019-03-03  1.003580e+06        353683.0  1.264413e+09  6.071846e+12  \n",
       "2019-03-02  1.155579e+06        335864.0  1.269010e+09  6.071846e+12  "
      ]
     },
     "execution_count": 31,
     "metadata": {},
     "output_type": "execute_result"
    }
   ],
   "source": [
    "bitcoin.head()"
   ]
  },
  {
   "cell_type": "markdown",
   "metadata": {},
   "source": [
    "Let's take a look at the average block reward"
   ]
  },
  {
   "cell_type": "code",
   "execution_count": 32,
   "metadata": {},
   "outputs": [
    {
     "data": {
      "image/png": "[encoded data removed]",
      "text/plain": [
       "<Figure size 1008x720 with 1 Axes>"
      ]
     },
     "metadata": {},
     "output_type": "display_data"
    }
   ],
   "source": [
    "bitcoin[['reward']].plot()\n",
    "plt.gcf().set_size_inches(14,10)"
   ]
  },
  {
   "cell_type": "markdown",
   "metadata": {},
   "source": [
    "Where we can clearly see a halving happening around 2016 when the block reward passed from 25BTC to 12.5BTC. The  previous halving can be found in the full dataset"
   ]
  },
  {
   "cell_type": "code",
   "execution_count": 33,
   "metadata": {},
   "outputs": [
    {
     "data": {
      "image/png": "[encoded data removed]",
      "text/plain": [
       "<Figure size 1008x720 with 1 Axes>"
      ]
     },
     "metadata": {},
     "output_type": "display_data"
    }
   ],
   "source": [
    "data[['reward']].resample('D').mean().plot()\n",
    "plt.gcf().set_size_inches(14,10)"
   ]
  },
  {
   "cell_type": "markdown",
   "metadata": {},
   "source": [
    "The spikes you see in 2017 are again due to the bitcoin bubble and the resulting increase in fees paid by users of the system. Dips are an artifact of the way the data was collected and highlight something very interesting.\n",
    "\n",
    "When preparing the block dataset, I extracted only the value of the first output of the coinbase transaction in each block. When the coinbase transaction has more than one output, this will result in an apparently smaller reward. Multiple outputs indicate that the block was mined through a mining collaboration where several miners work together to try to beat the remaining miners in being the first to find the solution. When a solution is found, the reward is shared.\n",
    "\n",
    "The large dips in some periods indicate that mining collaborations were very prevalent in those periods. For example, for block 95420 the reward is apparently just 44 satoshi, but this is due to the fact that this coinbase transaction has [two dozen outputs](https://www.blockchain.com/btc/tx/80853f00959702a11c2be709c6f4f3ffeec4e0bab3a2050a2eb9593e253cd3b6) "
   ]
  },
  {
   "cell_type": "code",
   "execution_count": 34,
   "metadata": {},
   "outputs": [
    {
     "data": {
      "text/plain": [
       "timestamp\n",
       "2010-12-04 05:04:30    44\n",
       "Name: reward, dtype: int64"
      ]
     },
     "execution_count": 34,
     "metadata": {},
     "output_type": "execute_result"
    }
   ],
   "source": [
    "data.loc[data['height']==95420, \"reward\"]"
   ]
  },
  {
   "cell_type": "markdown",
   "metadata": {},
   "source": [
    "Surprisingly, while the total number of transactions did prove senstive to the bubble price hike, it has been recovering much more rapidly than the price itself."
   ]
  },
  {
   "cell_type": "code",
   "execution_count": 35,
   "metadata": {},
   "outputs": [
    {
     "data": {
      "image/png": "[encoded data removed]",
      "text/plain": [
       "<Figure size 1008x720 with 1 Axes>"
      ]
     },
     "metadata": {},
     "output_type": "display_data"
    }
   ],
   "source": [
    "bitcoin[['n_transactions']].plot()\n",
    "(bitcoin[['High']]*20).plot(ax=plt.gca()) #x20 for ease of comparison on the same scale\n",
    "plt.gcf().set_size_inches(14,10)"
   ]
  },
  {
   "cell_type": "code",
   "execution_count": null,
   "metadata": {
    "collapsed": true
   },
   "outputs": [],
   "source": []
  },
  {
   "cell_type": "code",
   "execution_count": null,
   "metadata": {
    "collapsed": true
   },
   "outputs": [],
   "source": []
  }
 ],
 "metadata": {
  "anaconda-cloud": {},
  "kernelspec": {
   "display_name": "Python [conda env:py35]",
   "language": "python",
   "name": "conda-env-py35-py"
  },
  "language_info": {
   "codemirror_mode": {
    "name": "ipython",
    "version": 3
   },
   "file_extension": ".py",
   "mimetype": "text/x-python",
   "name": "python",
   "nbconvert_exporter": "python",
   "pygments_lexer": "ipython3",
   "version": "3.5.2"
  }
 },
 "nbformat": 4,
 "nbformat_minor": 2
}
