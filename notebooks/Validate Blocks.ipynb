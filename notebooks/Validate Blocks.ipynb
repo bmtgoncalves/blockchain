{
 "cells": [
  {
   "cell_type": "markdown",
   "metadata": {},
   "source": [
    "<h1 align=\"center\">Block Validation</h1>\n",
    "<h2 align=\"center\">Bruno Gonçalves</h2>\n",
    "<h4 align=\"center\">bgoncalves@gmail.com</h4>\n",
    "<h4 align=\"center\">@bgoncalves</h4>"
   ]
  },
  {
   "cell_type": "code",
   "execution_count": 1,
   "metadata": {
    "collapsed": true
   },
   "outputs": [],
   "source": [
    "import hashlib\n",
    "import codecs\n",
    "import binascii\n",
    "from pprint import pprint\n",
    "\n",
    "import json"
   ]
  },
  {
   "cell_type": "markdown",
   "metadata": {},
   "source": [
    "Let's get a block we can trust. [Blockchain.com](https://blockchain.com) has a full featured [API](https://www.blockchain.com/api) that makes this particularly easy. For ease of reference, the public facing pages are hosted at blockchain.**COM** while the API endpoints live at blockchain.**INFO**\n",
    "\n",
    "To avoid connectivity issues, and for reproducibility, I downloaded the block at height 150,000 previously"
   ]
  },
  {
   "cell_type": "code",
   "execution_count": 2,
   "metadata": {
    "collapsed": true
   },
   "outputs": [],
   "source": [
    "try:\n",
    "    import requests\n",
    "    url = \"https://blockchain.info/rawblock/0000000000000a3290f20e75860d505ce0e948a1d1d846bec7e39015d242884b\"\n",
    "\n",
    "    req = requests.get(url)\n",
    "    block = req.json()\n",
    "except:\n",
    "    block = json.loads(open(\"data/block_150000.json\", \"rt\").readlines()[0])"
   ]
  },
  {
   "cell_type": "markdown",
   "metadata": {},
   "source": [
    "As we can see, the block contains all the information we discussed in the slides, plus some values that were precomputed by our friends at [blockchain.com](https://blockchain.com)"
   ]
  },
  {
   "cell_type": "markdown",
   "metadata": {},
   "source": []
  },
  {
   "cell_type": "code",
   "execution_count": 3,
   "metadata": {},
   "outputs": [
    {
     "name": "stdout",
     "output_type": "stream",
     "text": [
      "{'bits': 436956491,\n",
      " 'block_index': 164971,\n",
      " 'fee': 0,\n",
      " 'hash': '0000000000000a3290f20e75860d505ce0e948a1d1d846bec7e39015d242884b',\n",
      " 'height': 150000,\n",
      " 'main_chain': True,\n",
      " 'mrkl_root': 'be0b136f2f3db38d4f55f1963f0acac506d637b3c27a4c42f3504836a4ec52b1',\n",
      " 'n_tx': 10,\n",
      " 'next_block': ['000000000000006b1c90f01554b0aa0b2b3adbe339b175c23b8b8ce8b503a89f'],\n",
      " 'nonce': 1796110725,\n",
      " 'prev_block': '00000000000008df4269884f1d3bfc2aed3ea747292abb89be3dc3faa8c5d26f',\n",
      " 'size': 3766,\n",
      " 'time': 1319118291,\n",
      " 'tx': [{'block_height': 150000,\n",
      "         'block_index': 164971,\n",
      "         'double_spend': False,\n",
      "         'fee': 0,\n",
      "         'hash': 'bcdc61cbecf6137eec5c8ad4047fcdc36710e77e404b17378a33ae605920afe1',\n",
      "         'inputs': [{'script': '044b6d0b1a020b02',\n",
      "                     'sequence': 4294967295,\n",
      "                     'witness': ''}],\n",
      "         'lock_time': 0,\n",
      "         'out': [{'addr': '13PHR5QM2cJLkFoA6E3rPEwTyYxxSCJ3B4',\n",
      "                  'n': 0,\n",
      "                  'script': '4104e8e37f1556b53b557405fc7924c861e640c8f99ebb3feb09ae69a84bea1f125940309beec02fb815ea5e68782c32da123b4585bc2f23731f1f1c62c9727dba9dac',\n",
      "                  'spending_outpoints': [{'n': 0, 'tx_index': 1754957}],\n",
      "                  'spent': True,\n",
      "                  'tx_index': 1751395,\n",
      "                  'type': 0,\n",
      "                  'value': 5000000000}],\n",
      "         'relayed_by': '0.0.0.0',\n",
      "         'size': 135,\n",
      "         'time': 1319118291,\n",
      "         'tx_index': 1751395,\n",
      "         'ver': 1,\n",
      "         'vin_sz': 1,\n",
      "         'vout_sz': 1,\n",
      "         'weight': 540},\n",
      "        {'block_height': 150000,\n",
      "         'block_index': 164971,\n",
      "         'double_spend': False,\n",
      "         'fee': 0,\n",
      "         'hash': 'f7f4c281ee20ab8d1b00734b92b60582b922211a7e470accd147c6d70c9714a3',\n",
      "         'inputs': [{'prev_out': {'addr': '16NqK3BN6cEqswG6w1YZK54uothrCxPuK2',\n",
      "                                  'n': 0,\n",
      "                                  'script': '76a9143af9b12d9a0cac3fe115355a9fbb3acd0113852188ac',\n",
      "                                  'spending_outpoints': [{'n': 0,\n",
      "                                                          'tx_index': 1751386}],\n",
      "                                  'spent': True,\n",
      "                                  'tx_index': 1711050,\n",
      "                                  'type': 0,\n",
      "                                  'value': 4047000000},\n",
      "                     'script': '483045022100f570245fdfc5f5adf435f9888d97de7c6173aace9785f3b3601b859ab9522582022030434c7883546a5f8573910d8a6bf9e0254a7c767f24f41eb50d5559e74d6d33014104f35021fa17cdffc2ce05526a0305a55d34e92dd88d8a63a5a55963e3884166cca2bc894fbaf56d0fa6f673be9d6605962d56ad034f507ffe6f5671c91cec7617',\n",
      "                     'sequence': 4294967295,\n",
      "                     'witness': ''}],\n",
      "         'lock_time': 0,\n",
      "         'out': [{'addr': '1QCmceWArP5qK31KciwFcdPM3tW3anGFN',\n",
      "                  'n': 0,\n",
      "                  'script': '76a9140463643ddc0a1044c26c86e6af5436515814939d88ac',\n",
      "                  'spending_outpoints': [{'n': 6, 'tx_index': 1761821}],\n",
      "                  'spent': True,\n",
      "                  'tx_index': 1751386,\n",
      "                  'type': 0,\n",
      "                  'value': 1532000000},\n",
      "                 {'addr': '1GoCg3dSFjwJ3TucfLDLA1Eq7cPBattFPR',\n",
      "                  'n': 1,\n",
      "                  'script': '76a914ad46c3ea24a7429513fa25582134f2bec3a296bb88ac',\n",
      "                  'spending_outpoints': [{'n': 1, 'tx_index': 1756781}],\n",
      "                  'spent': True,\n",
      "                  'tx_index': 1751386,\n",
      "                  'type': 0,\n",
      "                  'value': 2515000000}],\n",
      "         'relayed_by': '0.0.0.0',\n",
      "         'size': 258,\n",
      "         'time': 1319118291,\n",
      "         'tx_index': 1751386,\n",
      "         'ver': 1,\n",
      "         'vin_sz': 1,\n",
      "         'vout_sz': 2,\n",
      "         'weight': 1032},\n",
      "        {'block_height': 150000,\n",
      "         'block_index': 164971,\n",
      "         'double_spend': False,\n",
      "         'fee': 0,\n",
      "         'hash': 'b5f6e3b217fa7f6d58081b5d2a9a6607eebd889ed2c470191b2a45e0dcb98eb0',\n",
      "         'inputs': [{'prev_out': {'addr': '1AShoqCvLa3cXGg4NxbuKAFhd99d99jkum',\n",
      "                                  'n': 0,\n",
      "                                  'script': '76a9146795986e0176ce141f02205c6a8c5c10958ba6c888ac',\n",
      "                                  'spending_outpoints': [{'n': 0,\n",
      "                                                          'tx_index': 1751387}],\n",
      "                                  'spent': True,\n",
      "                                  'tx_index': 1746477,\n",
      "                                  'type': 0,\n",
      "                                  'value': 1017594},\n",
      "                     'script': '483045022100b61b8132060e810387518dbd697f731eb1680debf3882ed04821a5d54ced2bca022017a5356096f7db93d9b989114e248476d37325aab7ebc2a8f5800a2e9e6a66180141047bade8836f9ccd1923851351e70683606d86a22b6c78676ea3eae343aff5c8c3964e39c9edcf11807949bd325c9475b14de3dcd91b354a7e9d64a0e9b3e10f6b',\n",
      "                     'sequence': 4294967295,\n",
      "                     'witness': ''},\n",
      "                    {'prev_out': {'addr': '16kR9CVpQnLBwrzRCThSdCV5qLJYCCuRaP',\n",
      "                                  'n': 1,\n",
      "                                  'script': '76a9143f0eaade94d09f50f18b82045961e11a6273639888ac',\n",
      "                                  'spending_outpoints': [{'n': 1,\n",
      "                                                          'tx_index': 1751387}],\n",
      "                                  'spent': True,\n",
      "                                  'tx_index': 1748211,\n",
      "                                  'type': 0,\n",
      "                                  'value': 12000000},\n",
      "                     'script': '493046022100872162c6c479fb00d08184ec581958e384da86bc6696b356bb4f0cf8f34889e6022100e26ef459c676cff6c012505d53da4a2a5b62409df40fdbb8da3e541b5076774f014104ac50bfd0087fb5558fdf533b743bfcc0671da8394d2a9a7b3e1927d63fe8d149d24f91f276d61bd5e341aa7ade7ca4d15e8669b9bfd058f42a9be0e3b87d5000',\n",
      "                     'sequence': 4294967295,\n",
      "                     'witness': ''},\n",
      "                    {'prev_out': {'addr': '1GKz5FXPoYoM7s2tF7CH7EcWreTJCUQd54',\n",
      "                                  'n': 1,\n",
      "                                  'script': '76a914a8210435d297ed87d3455fe4aadb5fc61ed325fe88ac',\n",
      "                                  'spending_outpoints': [{'n': 2,\n",
      "                                                          'tx_index': 1751387}],\n",
      "                                  'spent': True,\n",
      "                                  'tx_index': 1748762,\n",
      "                                  'type': 0,\n",
      "                                  'value': 1010000000},\n",
      "                     'script': '473044022071189af8b6bfb5913310c8cdf24f3544808fadd65e107f3bb2257583ad7b78cd022038db1b9fc1b5412733fdc7420ff543a306920d206cd9b6360005203bfdeecbfb0141046db43a2a416854e660917be0dbbdff2e9929f69b82ded4c007a3a936dac18cf93fea1207afc20e700e8d496e495c966200080e01ace36d33e7e4ac8510f32c6d',\n",
      "                     'sequence': 4294967295,\n",
      "                     'witness': ''},\n",
      "                    {'prev_out': {'addr': '1DV4RzhCc4L6WdXVaHnknsJ8rh9wqTse3W',\n",
      "                                  'n': 23,\n",
      "                                  'script': '76a91488f005352cac89ea7aecb1875f83aa634ba4b36988ac',\n",
      "                                  'spending_outpoints': [{'n': 3,\n",
      "                                                          'tx_index': 1751387}],\n",
      "                                  'spent': True,\n",
      "                                  'tx_index': 1748906,\n",
      "                                  'type': 0,\n",
      "                                  'value': 52657197},\n",
      "                     'script': '48304502205b364bbfd3639936eda981ac042f0ad07f7f177030648a5cf47eee974c3f9b4f022100d00ae6db95d8246c262d1b3ec6ad1a422ca285a4414ce88e6e1b0142b5d8121a014104fa2837995fe7bf88f447b3974416233ab6c048caa31eeef5aee2aec0cd43c3e0580afb597763e06d85fa55f291aa97a83b89912f643535ed633d206ee51f95d0',\n",
      "                     'sequence': 4294967295,\n",
      "                     'witness': ''},\n",
      "                    {'prev_out': {'addr': '1MbHPg41EEvaazsBRadekD451jdJ1HY4QT',\n",
      "                                  'n': 1,\n",
      "                                  'script': '76a914e1de5740696243be7ed3cabb16c6484fbd188cb988ac',\n",
      "                                  'spending_outpoints': [{'n': 4,\n",
      "                                                          'tx_index': 1751387}],\n",
      "                                  'spent': True,\n",
      "                                  'tx_index': 1750641,\n",
      "                                  'type': 0,\n",
      "                                  'value': 248000000},\n",
      "                     'script': '493046022100a8d8e5edf0f0da85e7270e8bc6c388b0388d654db0abc36a92907bc9e957e60c022100b811cca7c8ac220b8df7ee196da5c1cd08069ccf1503e63a0151a592498f6dbe0141043de63a89f4dfcf1cfc0b116bca2b3f31c87f7ecab6b8492d735c956a623f7b2c3ffe4971283ec9b3f09842d7cc18d86b3010afd52451540a3e51854d9178b36d',\n",
      "                     'sequence': 4294967295,\n",
      "                     'witness': ''},\n",
      "                    {'prev_out': {'addr': '1FxwdX45xe3witsXxX2A443biRw9qdMRGH',\n",
      "                                  'n': 0,\n",
      "                                  'script': '76a914a4263dcb5e4a9d3a8fee799a4b767680b769137288ac',\n",
      "                                  'spending_outpoints': [{'n': 5,\n",
      "                                                          'tx_index': 1751387}],\n",
      "                                  'spent': True,\n",
      "                                  'tx_index': 1750025,\n",
      "                                  'type': 0,\n",
      "                                  'value': 2444200941},\n",
      "                     'script': '483045022100d231c4c69e6b9d07f219e25633d24917aa08062dce26fb35c74ec157702961e00220686a31417389dbb053829fe5f5aa3752b732875bbca37617651bcb2aff34296d01410460f007004784ae34d4cbf33699962cc030b7202f4395acf1e19140944c1640dcbe2ce9d114b49286f3f4afe2a1bfbc4e0fd7b38142eca3c6f5bff78c85557432',\n",
      "                     'sequence': 4294967295,\n",
      "                     'witness': ''},\n",
      "                    {'prev_out': {'addr': '16XJCyW96bhuMUkJnY8zaSGPAmVnZZFP2d',\n",
      "                                  'n': 0,\n",
      "                                  'script': '76a9143c9378931e357f00af12feb174c01dd98d933a8988ac',\n",
      "                                  'spending_outpoints': [{'n': 6,\n",
      "                                                          'tx_index': 1751387}],\n",
      "                                  'spent': True,\n",
      "                                  'tx_index': 1749938,\n",
      "                                  'type': 0,\n",
      "                                  'value': 25009128300},\n",
      "                     'script': '493046022100f11950abe02ef35bad3498b1afa79004726989521b78f2123f6c761df5c38202022100cee5a42aeeb6c136b294c8a47490308bff0d1a5c66861566dd150656751dd0b101410490fd02ef1f831bf3bdd8fc080267dc4617e9c3bb3de7d60eb8a9d33fc639815f873a375ad1d776eb9715a0dc0ae10956b73877e860c595f6c20f74b75cf9fcb0',\n",
      "                     'sequence': 4294967295,\n",
      "                     'witness': ''}],\n",
      "         'lock_time': 0,\n",
      "         'out': [{'addr': '1HwC85YfBWAtAgEdMtwfYGEpM7BJznHrFJ',\n",
      "                  'n': 0,\n",
      "                  'script': '76a914b9c1c239768c0a4584ca82b466e2dc224d0f51a288ac',\n",
      "                  'spending_outpoints': [{'n': 6, 'tx_index': 1753823}],\n",
      "                  'spent': True,\n",
      "                  'tx_index': 1751387,\n",
      "                  'type': 0,\n",
      "                  'value': 1004032},\n",
      "                 {'addr': '12eQVBh2z8nkczbUV2k5GLRAkFo9QQ2Frm',\n",
      "                  'n': 1,\n",
      "                  'script': '76a914120b1f16d9e6ef9ce35bdb011f6b08c338acf7fc88ac',\n",
      "                  'spending_outpoints': [{'n': 115, 'tx_index': 1755805}],\n",
      "                  'spent': True,\n",
      "                  'tx_index': 1751387,\n",
      "                  'type': 0,\n",
      "                  'value': 28776000000}],\n",
      "         'relayed_by': '0.0.0.0',\n",
      "         'size': 1340,\n",
      "         'time': 1319118291,\n",
      "         'tx_index': 1751387,\n",
      "         'ver': 1,\n",
      "         'vin_sz': 7,\n",
      "         'vout_sz': 2,\n",
      "         'weight': 5360},\n",
      "        {'block_height': 150000,\n",
      "         'block_index': 164971,\n",
      "         'double_spend': False,\n",
      "         'fee': 0,\n",
      "         'hash': '4206f171f06913b1d40597edcaf75780559231fb504c49ba85a4a9ae949e8b95',\n",
      "         'inputs': [{'prev_out': {'addr': '1PKLTMVJ7ieFJQccbovXaaPFSuqh1ebx9r',\n",
      "                                  'n': 0,\n",
      "                                  'script': '76a914f4ca7e86ab2e0fb5faabb6ca88fb1fa10919d86f88ac',\n",
      "                                  'spending_outpoints': [{'n': 0,\n",
      "                                                          'tx_index': 1751388}],\n",
      "                                  'spent': True,\n",
      "                                  'tx_index': 1751330,\n",
      "                                  'type': 0,\n",
      "                                  'value': 18203539511},\n",
      "                     'script': '4830450221009c0019582e97ad740c8ead4b807b3e305d676e6319a8814258f01ba5e6fdf1b402207dc76c6a6a4d70c4daa824f7db6fdbaf23ac76519476d10c093371656df741c5014104f539bb14bac4dae65b5d1405db3ce4066dbfa2cf3f3601a1fd42d0db952f94efa33c48cd27302bf9ad165dafafc4eb0c50d2be29ff200f61c3f229e75f89d348',\n",
      "                     'sequence': 4294967295,\n",
      "                     'witness': ''}],\n",
      "         'lock_time': 0,\n",
      "         'out': [{'addr': '18urAn8fDBWkZNNAybv3vQaMACZxgM2mJg',\n",
      "                  'n': 0,\n",
      "                  'script': '76a91456c78deb3627490bb61ee9c583f3837d84d3d2d688ac',\n",
      "                  'spending_outpoints': [{'n': 0, 'tx_index': 1751462}],\n",
      "                  'spent': True,\n",
      "                  'tx_index': 1751388,\n",
      "                  'type': 0,\n",
      "                  'value': 18193173267},\n",
      "                 {'addr': '1E5mfLJEEKXmMYP8yUddajnoRBtfdErgXM',\n",
      "                  'n': 1,\n",
      "                  'script': '76a9148f8094807a90a7a175bc51e9885ebebf92cf51f388ac',\n",
      "                  'spent': False,\n",
      "                  'tx_index': 1751388,\n",
      "                  'type': 0,\n",
      "                  'value': 10366244}],\n",
      "         'relayed_by': '0.0.0.0',\n",
      "         'size': 258,\n",
      "         'time': 1319118291,\n",
      "         'tx_index': 1751388,\n",
      "         'ver': 1,\n",
      "         'vin_sz': 1,\n",
      "         'vout_sz': 2,\n",
      "         'weight': 1032},\n",
      "        {'block_height': 150000,\n",
      "         'block_index': 164971,\n",
      "         'double_spend': False,\n",
      "         'fee': 0,\n",
      "         'hash': 'a1a6ad6ff321c76496a89b6a4eb9bcfb76b9e068b677d5c7d427c51ca08c273d',\n",
      "         'inputs': [{'prev_out': {'addr': '1PqjxYLUH41f9FnkHZ1WHtwAfy3fiK7tAn',\n",
      "                                  'n': 0,\n",
      "                                  'script': '76a914fa8a97b4a22504f46306863ae15d02e37a5b4bfc88ac',\n",
      "                                  'spending_outpoints': [{'n': 0,\n",
      "                                                          'tx_index': 1751389}],\n",
      "                                  'spent': True,\n",
      "                                  'tx_index': 1751365,\n",
      "                                  'type': 0,\n",
      "                                  'value': 4485655481},\n",
      "                     'script': '473044022013be85140c9f8e3514826aa16e074f9443ba4fc50f719165701cdf7907c056080220787e32a28606231da3d34f1a5e4e448af23697a1d4c76e604929a97596145de3014104704925cc590df81869dabb78154f75157b55f4977530bd911175ecb4f1d862af33616fa22ead59b43fff5516db16152dc89651aea4d5e1deb8e7eafecb03033b',\n",
      "                     'sequence': 4294967295,\n",
      "                     'witness': ''}],\n",
      "         'lock_time': 0,\n",
      "         'out': [{'addr': '13hgL1LdQTUapzNZf2misxshbCTxEZXH6z',\n",
      "                  'n': 0,\n",
      "                  'script': '76a9141da1b8197b1d766053331389ba1ba569ef922d9a88ac',\n",
      "                  'spending_outpoints': [{'n': 0, 'tx_index': 1751524}],\n",
      "                  'spent': True,\n",
      "                  'tx_index': 1751389,\n",
      "                  'type': 0,\n",
      "                  'value': 4483655481},\n",
      "                 {'addr': '12zxjyjEWj4DQRKwtCkS9wUtFfyEkpeoa9',\n",
      "                  'n': 1,\n",
      "                  'script': '76a91415ee5da85e59d4ba23e15f9241dcbd14cc126b3c88ac',\n",
      "                  'spending_outpoints': [{'n': 2, 'tx_index': 1841476}],\n",
      "                  'spent': True,\n",
      "                  'tx_index': 1751389,\n",
      "                  'type': 0,\n",
      "                  'value': 2000000}],\n",
      "         'relayed_by': '0.0.0.0',\n",
      "         'size': 257,\n",
      "         'time': 1319118291,\n",
      "         'tx_index': 1751389,\n",
      "         'ver': 1,\n",
      "         'vin_sz': 1,\n",
      "         'vout_sz': 2,\n",
      "         'weight': 1028},\n",
      "        {'block_height': 150000,\n",
      "         'block_index': 164971,\n",
      "         'double_spend': False,\n",
      "         'fee': 0,\n",
      "         'hash': '89c82039452c14a9314b5834e5d2b9241b1fdccdb6e4f4f68e49015540faaf95',\n",
      "         'inputs': [{'prev_out': {'addr': '1QJXnk42pbq4VfrKY3sSD9nH5cBGjn3gS1',\n",
      "                                  'n': 0,\n",
      "                                  'script': '76a914ff9baa5b596c5aeedd9c2c41ade6883ffa88bc1f88ac',\n",
      "                                  'spending_outpoints': [{'n': 0,\n",
      "                                                          'tx_index': 1751390}],\n",
      "                                  'spent': True,\n",
      "                                  'tx_index': 1751361,\n",
      "                                  'type': 0,\n",
      "                                  'value': 4044350000},\n",
      "                     'script': '483045022100c31fe8e263ae282633d36c761b65ff4a566f09ddf0da201f903a1e6c159b0ac4022074b80000b02ee8578db7522c7d7f7d2044dfa105f56e8fc1e9d27c97a033abd6014104beec61e3acf22e5aa6c97ae354fc65555e26dd444f620d113d7feba7a8815ab15205ee8fec4e13af1777610a91f6b030b072be663db972fe0c394411f0fb2bc1',\n",
      "                     'sequence': 4294967295,\n",
      "                     'witness': ''}],\n",
      "         'lock_time': 0,\n",
      "         'out': [{'addr': '1BH6k773FcW5L6SHXUZqJeM6HWqvoCLEav',\n",
      "                  'n': 0,\n",
      "                  'script': '76a91470bcb5186044c09e532ddc2914b61c0a2b07876188ac',\n",
      "                  'spending_outpoints': [{'n': 0, 'tx_index': 1751404}],\n",
      "                  'spent': True,\n",
      "                  'tx_index': 1751390,\n",
      "                  'type': 0,\n",
      "                  'value': 4040350000},\n",
      "                 {'addr': '1F57aEu6ot5WfMqWtpnW5CdG6ULq5hcbT4',\n",
      "                  'n': 1,\n",
      "                  'script': '76a9149a58e9696fe10b44bf2c91b2cb18c2ded593041788ac',\n",
      "                  'spending_outpoints': [{'n': 2, 'tx_index': 1751432}],\n",
      "                  'spent': True,\n",
      "                  'tx_index': 1751390,\n",
      "                  'type': 0,\n",
      "                  'value': 4000000}],\n",
      "         'relayed_by': '0.0.0.0',\n",
      "         'size': 258,\n",
      "         'time': 1319118291,\n",
      "         'tx_index': 1751390,\n",
      "         'ver': 1,\n",
      "         'vin_sz': 1,\n",
      "         'vout_sz': 2,\n",
      "         'weight': 1032},\n",
      "        {'block_height': 150000,\n",
      "         'block_index': 164971,\n",
      "         'double_spend': False,\n",
      "         'fee': 0,\n",
      "         'hash': '25c6a1f8c0b5be2bee1e8dd3478b4ec8f54bbc3742eaf90bfb5afd46cf217ad9',\n",
      "         'inputs': [{'prev_out': {'addr': '1JP5UvHBLzNzY8JokB69pv9f5bBsyarUvm',\n",
      "                                  'n': 0,\n",
      "                                  'script': '76a914bea707c3bdd07c410f269cc989be4d954bbaa2b488ac',\n",
      "                                  'spending_outpoints': [{'n': 0,\n",
      "                                                          'tx_index': 1751391}],\n",
      "                                  'spent': True,\n",
      "                                  'tx_index': 1751378,\n",
      "                                  'type': 0,\n",
      "                                  'value': 4353150000},\n",
      "                     'script': '48304502200efa503a09fa3b74a9a663a94649bfa9268e44b8079f506be990db83de60309e022100df7eb9fbd1f59dd62ac1ed17f22e9527f5ec402db04e13070d98cc5491778724014104961c6acf647b244c91d83f1d2a5df8421c81a584deebdc3a00d1b80113de6420ffdd00bd2f0984f001b7386bc4f3f80deae550f035ff81d6d01b9d907b719a68',\n",
      "                     'sequence': 4294967295,\n",
      "                     'witness': ''}],\n",
      "         'lock_time': 0,\n",
      "         'out': [{'addr': '14h89KekfUn2n4dug6GxXJg177CV2m7Gz8',\n",
      "                  'n': 0,\n",
      "                  'script': '76a914287efa98ea0bdb3205885d7e4e4fa7012f71279988ac',\n",
      "                  'spending_outpoints': [{'n': 0, 'tx_index': 1751402}],\n",
      "                  'spent': True,\n",
      "                  'tx_index': 1751391,\n",
      "                  'type': 0,\n",
      "                  'value': 4341960000},\n",
      "                 {'addr': '1PJUkeKAiZcHdNtzQewY7EPE1RhDWzk2Nh',\n",
      "                  'n': 1,\n",
      "                  'script': '76a914f4a101541f3d0eed6fce73222b43f753293af88d88ac',\n",
      "                  'spending_outpoints': [{'n': 21, 'tx_index': 1786246}],\n",
      "                  'spent': True,\n",
      "                  'tx_index': 1751391,\n",
      "                  'type': 0,\n",
      "                  'value': 11190000}],\n",
      "         'relayed_by': '0.0.0.0',\n",
      "         'size': 258,\n",
      "         'time': 1319118291,\n",
      "         'tx_index': 1751391,\n",
      "         'ver': 1,\n",
      "         'vin_sz': 1,\n",
      "         'vout_sz': 2,\n",
      "         'weight': 1032},\n",
      "        {'block_height': 150000,\n",
      "         'block_index': 164971,\n",
      "         'double_spend': False,\n",
      "         'fee': 0,\n",
      "         'hash': '57eef4da5edacc1247e71d3a93ed2ccaae69c302612e414f98abf8db0b671eae',\n",
      "         'inputs': [{'prev_out': {'addr': '15QDbdvbRoXcTEmyKey7d9CFcB82LdCzUC',\n",
      "                                  'n': 0,\n",
      "                                  'script': '76a914304495fa9ac96028ab9d71dc5783598cdf1c30cc88ac',\n",
      "                                  'spending_outpoints': [{'n': 0,\n",
      "                                                          'tx_index': 1751392}],\n",
      "                                  'spent': True,\n",
      "                                  'tx_index': 1751321,\n",
      "                                  'type': 0,\n",
      "                                  'value': 361903209},\n",
      "                     'script': '48304502205edd8f2d6ba0ca382292aea002642f79c419cc67bed0cbef5be75a18a2f4007e0221009a2a46010d055ab9f2befa07cb3394d26c137bf21acf9699dca5ac5568a43ed101410486606d11f1a21c23b881330997c6e58b55bdfa9a758a288611fa893a2ed5d4abd8dde9315902f266c27abcb7f5d58e97f2fbf20bf7ede386986cc0dadc01f65e',\n",
      "                     'sequence': 4294967295,\n",
      "                     'witness': ''}],\n",
      "         'lock_time': 0,\n",
      "         'out': [{'addr': '1Md8eUm7TSvDy4YQQQRfTaEZEoLEhTZdUV',\n",
      "                  'n': 0,\n",
      "                  'script': '76a914e237df7dbc7dbb678bbfb288970a709c84201d1888ac',\n",
      "                  'spending_outpoints': [{'n': 0, 'tx_index': 1751411}],\n",
      "                  'spent': True,\n",
      "                  'tx_index': 1751392,\n",
      "                  'type': 0,\n",
      "                  'value': 356903209},\n",
      "                 {'addr': '16nLCbMMDUoX2F32kCe9oHHBhuRKgWyM95',\n",
      "                  'n': 1,\n",
      "                  'script': '76a9143f6b5fdb5a732b2135f92cdc97d555d25121470f88ac',\n",
      "                  'spending_outpoints': [{'n': 37, 'tx_index': 2013118}],\n",
      "                  'spent': True,\n",
      "                  'tx_index': 1751392,\n",
      "                  'type': 0,\n",
      "                  'value': 5000000}],\n",
      "         'relayed_by': '0.0.0.0',\n",
      "         'size': 258,\n",
      "         'time': 1319118291,\n",
      "         'tx_index': 1751392,\n",
      "         'ver': 1,\n",
      "         'vin_sz': 1,\n",
      "         'vout_sz': 2,\n",
      "         'weight': 1032},\n",
      "        {'block_height': 150000,\n",
      "         'block_index': 164971,\n",
      "         'double_spend': False,\n",
      "         'fee': 0,\n",
      "         'hash': '8d30eb0f3e65b8d8a9f26f6f73fc5aafa5c0372f9bb38aa38dd4c9dd1933e090',\n",
      "         'inputs': [{'prev_out': {'addr': '1Dk7G8PL41cjafur4ng9QfeW9RYSDh31dG',\n",
      "                                  'n': 0,\n",
      "                                  'script': '76a9148bc89f3d3e8016984bcea6a86a81f618fcd5c37888ac',\n",
      "                                  'spending_outpoints': [{'n': 0,\n",
      "                                                          'tx_index': 1751393}],\n",
      "                                  'spent': True,\n",
      "                                  'tx_index': 1332496,\n",
      "                                  'type': 0,\n",
      "                                  'value': 1000000},\n",
      "                     'script': '473044022050c32cf6cd888178268701a636b189dc3f026ee3ebd230fd77018e54044aac77022055aa7fa73c524dd4f0be02694683a21eb03d5d2f2c519d7dc7110b742c417517014104aa5c77986a87b93b03d949013e629601b6dbdbd5fc09f3bef9263b64b3c38d79d443fafa2fbf422a203fe433adf6e071f3172a53747739ce72c640fe7e514981',\n",
      "                     'sequence': 4294967295,\n",
      "                     'witness': ''}],\n",
      "         'lock_time': 0,\n",
      "         'out': [{'addr': '17jGZpvEUGbSDkvt8AqniGMbbek12VZtZc',\n",
      "                  'n': 0,\n",
      "                  'script': '76a91449cf380abdb86449efc694988bf0f447739f73cd88ac',\n",
      "                  'spent': False,\n",
      "                  'tx_index': 1751393,\n",
      "                  'type': 0,\n",
      "                  'value': 1000000}],\n",
      "         'relayed_by': '0.0.0.0',\n",
      "         'size': 223,\n",
      "         'time': 1319118291,\n",
      "         'tx_index': 1751393,\n",
      "         'ver': 1,\n",
      "         'vin_sz': 1,\n",
      "         'vout_sz': 1,\n",
      "         'weight': 892},\n",
      "        {'block_height': 150000,\n",
      "         'block_index': 164971,\n",
      "         'double_spend': False,\n",
      "         'fee': 0,\n",
      "         'hash': '13e3167d46334600b59a5aa286dd02147ac33e64bfc2e188e1f0c0a442182584',\n",
      "         'inputs': [{'prev_out': {'addr': '116BLhr5YRU6QaLUQigTcBqKpdzuFXiusj',\n",
      "                                  'n': 0,\n",
      "                                  'script': '76a91400fab602c0d9628fac8bc31d57ac4b3e6a3ddd7288ac',\n",
      "                                  'spending_outpoints': [{'n': 0,\n",
      "                                                          'tx_index': 1751394}],\n",
      "                                  'spent': True,\n",
      "                                  'tx_index': 1749786,\n",
      "                                  'type': 0,\n",
      "                                  'value': 1000316},\n",
      "                     'script': '493046022100df04a78b0a33e73f08efa0b3edbde245082b03c1d330272e9cc517b4446ef2e3022100ddb406a56c8b7096ea017d30558df3c8ac755d882da9c228dc50034ca73a29f1014104f7603b457a46ff87ff8bf309d5224ce0f546bf1549660d988d6ab66c106a92bbea23cd9d6459aaeabfc0fe1d3b449fe88847e1a10ba8e48911934e306511116f',\n",
      "                     'sequence': 4294967295,\n",
      "                     'witness': ''},\n",
      "                    {'prev_out': {'addr': '19PicsFL4EfRmRfv3MCd4tBLBCx28wMDcD',\n",
      "                                  'n': 0,\n",
      "                                  'script': '76a9145c0ce611b6e3f95b41917e082706c5d42979ca8188ac',\n",
      "                                  'spending_outpoints': [{'n': 1,\n",
      "                                                          'tx_index': 1751394}],\n",
      "                                  'spent': True,\n",
      "                                  'tx_index': 1748446,\n",
      "                                  'type': 0,\n",
      "                                  'value': 1008730},\n",
      "                     'script': '49304602210093cb5e02e767548445da3a09be15fc35226bef3a5cbdc9b47759da54a3a57790022100c62106c88ea69197fb6bc5934dfd711bac847cc6f320aa2218b7a0c36eb0505601410478e9765d9e3f5ca6a3dff70330e37d27530ea64a01634b3b4764c2315064015c2f8819fe5eea04a7ea396149c587ddfac82400246bc54806adda37defd44daee',\n",
      "                     'sequence': 4294967295,\n",
      "                     'witness': ''}],\n",
      "         'lock_time': 0,\n",
      "         'out': [{'addr': '1P8NWs7mN3KNyDqt1FGGmAThLgg3F42t2',\n",
      "                  'n': 0,\n",
      "                  'script': '76a914042f4dda86079350c9314221542d6ed1fabfc32888ac',\n",
      "                  'spending_outpoints': [{'n': 6, 'tx_index': 1752816}],\n",
      "                  'spent': True,\n",
      "                  'tx_index': 1751394,\n",
      "                  'type': 0,\n",
      "                  'value': 1009046},\n",
      "                 {'addr': '19W7YLp8yMuCEjxiaqMeV2XDhqzzUoko3',\n",
      "                  'n': 1,\n",
      "                  'script': '76a914019ba13b03758a23e0fe2bff424534ed44b5ad7588ac',\n",
      "                  'spent': False,\n",
      "                  'tx_index': 1751394,\n",
      "                  'type': 0,\n",
      "                  'value': 1000000}],\n",
      "         'relayed_by': '0.0.0.0',\n",
      "         'size': 440,\n",
      "         'time': 1319118291,\n",
      "         'tx_index': 1751394,\n",
      "         'ver': 1,\n",
      "         'vin_sz': 2,\n",
      "         'vout_sz': 2,\n",
      "         'weight': 1760}],\n",
      " 'ver': 1}\n"
     ]
    }
   ],
   "source": [
    "pprint(block)"
   ]
  },
  {
   "cell_type": "markdown",
   "metadata": {},
   "source": [
    "We can also take advantage of Firefoxs particularly nice support for JSON files by opening the cached file directly [data/block_150000.json](data/block_150000.json)"
   ]
  },
  {
   "cell_type": "markdown",
   "metadata": {},
   "source": [
    "# Bit Twiddling"
   ]
  },
  {
   "cell_type": "markdown",
   "metadata": {},
   "source": [
    "In order to minimize the amount of data that needs to be transmitted and stored, BitCoin uses a binary format. As such, there are some conventions we need to follow and some helper functions that need to be defined"
   ]
  },
  {
   "cell_type": "markdown",
   "metadata": {},
   "source": [
    "In particular, BitCoin stores values in 'little endian' format so we must often invert the byteorder to be able to compare the raw values with the published ones."
   ]
  },
  {
   "cell_type": "code",
   "execution_count": 4,
   "metadata": {
    "collapsed": true
   },
   "outputs": [],
   "source": [
    "def invert_byteorder(original, decode_hex = codecs.getdecoder(\"hex_codec\")):\n",
    "    return decode_hex(original)[0][::-1].hex()"
   ]
  },
  {
   "cell_type": "markdown",
   "metadata": {},
   "source": [
    "As an added security measure, Bitcoin uses a double SHA256 hashing function that we define below"
   ]
  },
  {
   "cell_type": "code",
   "execution_count": 5,
   "metadata": {
    "collapsed": true
   },
   "outputs": [],
   "source": [
    "def doubleSha256(input):\n",
    "    decode_hex = codecs.getdecoder(\"hex_codec\")\n",
    "    input_bin = decode_hex(input)[0]\n",
    "    return hashlib.sha256(hashlib.sha256(input_bin).digest()).hexdigest()"
   ]
  },
  {
   "cell_type": "markdown",
   "metadata": {},
   "source": [
    "# Calculate the Merkle Tree root"
   ]
  },
  {
   "cell_type": "markdown",
   "metadata": {},
   "source": [
    "Let's start by calculating the merkle tree root of all the transactions contained in this block. For ease of refernce, the transaction hashes are:"
   ]
  },
  {
   "cell_type": "code",
   "execution_count": 6,
   "metadata": {
    "collapsed": true
   },
   "outputs": [],
   "source": [
    "transactions = []\n",
    "\n",
    "for tx in block[\"tx\"]:\n",
    "    transactions.append(invert_byteorder(tx[\"hash\"]))"
   ]
  },
  {
   "cell_type": "code",
   "execution_count": 7,
   "metadata": {},
   "outputs": [
    {
     "name": "stdout",
     "output_type": "stream",
     "text": [
      "['e1af205960ae338a37174b407ee71067c3cd7f04d48a5cec7e13f6eccb61dcbc',\n",
      " 'a314970cd7c647d1cc0a477e1a2122b98205b6924b73001b8dab20ee81c2f4f7',\n",
      " 'b08eb9dce0452a1b1970c4d29e88bdee07669a2a5d1b08586d7ffa17b2e3f6b5',\n",
      " '958b9e94aea9a485ba494c50fb3192558057f7caed9705d4b11369f071f10642',\n",
      " '3d278ca01cc527d4c7d577b668e0b976fbbcb94e6a9ba89664c721f36fada6a1',\n",
      " '95affa405501498ef6f4e4b6cddc1f1b24b9d2e534584b31a9142c453920c889',\n",
      " 'd97a21cf46fd5afb0bf9ea4237bc4bf5c84e8b47d38d1eee2bbeb5c0f8a1c625',\n",
      " 'ae1e670bdbf8ab984f412e6102c369aeca2ced933a1de74712ccda5edaf4ee57',\n",
      " '90e03319ddc9d48da38ab39b2f37c0a5af5afc736f6ff2a9d8b8653e0feb308d',\n",
      " '84251842a4c0f0e188e1c2bf643ec37a1402dd86a25a9ab5004633467d16e313']\n"
     ]
    }
   ],
   "source": [
    "pprint(transactions)"
   ]
  },
  {
   "cell_type": "markdown",
   "metadata": {},
   "source": [
    "As we saw, we have to calcuate the double hash of concated pairs of transactions until we reach the root of the tree. We also print out some intermediat results for clarity"
   ]
  },
  {
   "cell_type": "code",
   "execution_count": 8,
   "metadata": {
    "collapsed": true
   },
   "outputs": [],
   "source": [
    "def get_root(transactions):\n",
    "    missing = len(transactions)\n",
    "\n",
    "    for i in range(missing):\n",
    "        print(i, transactions[i])\n",
    "\n",
    "    next_transactions = []\n",
    "\n",
    "    while missing > 1:\n",
    "        print(missing)\n",
    "        next_transactions = []\n",
    "\n",
    "        # If it's odd, repeat the last transaction\n",
    "        if missing % 2 == 1:\n",
    "            transactions.append(transactions[-1])\n",
    "            missing += 1\n",
    "\n",
    "        for i in range(0, missing, 2):\n",
    "            input = transactions[i] + transactions[i+1]\n",
    "            output = doubleSha256(input)\n",
    "            next_transactions.append(output)\n",
    "            print(i, i+1, next_transactions[-1])\n",
    "\n",
    "\n",
    "        missing = len(next_transactions)\n",
    "        transactions = next_transactions[::]\n",
    "\n",
    "    return invert_byteorder(next_transactions[0])"
   ]
  },
  {
   "cell_type": "code",
   "execution_count": 9,
   "metadata": {},
   "outputs": [
    {
     "name": "stdout",
     "output_type": "stream",
     "text": [
      "0 e1af205960ae338a37174b407ee71067c3cd7f04d48a5cec7e13f6eccb61dcbc\n",
      "1 a314970cd7c647d1cc0a477e1a2122b98205b6924b73001b8dab20ee81c2f4f7\n",
      "2 b08eb9dce0452a1b1970c4d29e88bdee07669a2a5d1b08586d7ffa17b2e3f6b5\n",
      "3 958b9e94aea9a485ba494c50fb3192558057f7caed9705d4b11369f071f10642\n",
      "4 3d278ca01cc527d4c7d577b668e0b976fbbcb94e6a9ba89664c721f36fada6a1\n",
      "5 95affa405501498ef6f4e4b6cddc1f1b24b9d2e534584b31a9142c453920c889\n",
      "6 d97a21cf46fd5afb0bf9ea4237bc4bf5c84e8b47d38d1eee2bbeb5c0f8a1c625\n",
      "7 ae1e670bdbf8ab984f412e6102c369aeca2ced933a1de74712ccda5edaf4ee57\n",
      "8 90e03319ddc9d48da38ab39b2f37c0a5af5afc736f6ff2a9d8b8653e0feb308d\n",
      "9 84251842a4c0f0e188e1c2bf643ec37a1402dd86a25a9ab5004633467d16e313\n",
      "10\n",
      "0 1 a4a2774e14677eaf13a5e8d5f793618ee3b9763ebbd99ac20894b2cea5aa17b7\n",
      "2 3 40213c81f059806fb8c1b91d0a7397a57156cfc3a17b71d095c244aafc1eb115\n",
      "4 5 efc2b3db87ff4f00c79dfa8f732a23c0e18587a73a839b7710234583cdd03db9\n",
      "6 7 066ad6d9939ec0c90b7f3b775122785bd8aca2a2c5857205af7e0615e9af9796\n",
      "8 9 11c42391000d1c9a2211a74d4f62be958927e905e04f83705a58afbc1636faf8\n",
      "5\n",
      "0 1 f1b6fe8fc2ab800e6d76ee975a002d3e67a60b51a62085a07289505b8d03f149\n",
      "2 3 8be15fc2ab11ef3e079568d43b2b09ed5a5690fb13ecb1032f7aab99238a1847\n",
      "4 5 e58c44b68748a5c6ad97e752eaf89c7cf79be4116aff5c6a55a351cc71642ef7\n",
      "3\n",
      "0 1 8d9d737b484e96eed701c4b3728aea80aa7f2a7f57125790ed9998f9050a1bef\n",
      "2 3 e827331b1fe7a2689fbc23d14cd21317c699596cbca222182a489322ece1fa74\n",
      "2\n",
      "0 1 b152eca4364850f3424c7ac2b337d606c5ca0a3f96f1554f8db33d2f6f130bbe\n"
     ]
    }
   ],
   "source": [
    "root = get_root(transactions)"
   ]
  },
  {
   "cell_type": "markdown",
   "metadata": {},
   "source": [
    "Confirm we got the correct result"
   ]
  },
  {
   "cell_type": "code",
   "execution_count": 10,
   "metadata": {},
   "outputs": [
    {
     "data": {
      "text/plain": [
       "True"
      ]
     },
     "execution_count": 10,
     "metadata": {},
     "output_type": "execute_result"
    }
   ],
   "source": [
    "root == block['mrkl_root']"
   ]
  },
  {
   "cell_type": "markdown",
   "metadata": {},
   "source": [
    "# Verify that a given transaction is part of the Merkle Tree"
   ]
  },
  {
   "cell_type": "markdown",
   "metadata": {},
   "source": [
    "One of the advantages of a merkle tree is that it allows use to easily verify if a given transaction is part of a tree or not, without having to know the hashes of all the transactions. Indeed, we must only supply the transaction we want to verify and the path up the tree, resulting in $log_2(N)$ calculations, a significant improvement for large trees."
   ]
  },
  {
   "cell_type": "code",
   "execution_count": 11,
   "metadata": {
    "collapsed": true
   },
   "outputs": [],
   "source": [
    "proof = ['AE1E670BDBF8AB984F412E6102C369AECA2CED933A1DE74712CCDA5EDAF4EE57',\n",
    "         'EFC2B3DB87FF4F00C79DFA8F732A23C0E18587A73A839B7710234583CDD03DB9',\n",
    "         'F1B6FE8FC2AB800E6D76EE975A002D3E67A60B51A62085A07289505B8D03F149',\n",
    "         'E827331B1FE7A2689FBC23D14CD21317C699596CBCA222182A489322ECE1FA74']"
   ]
  },
  {
   "cell_type": "code",
   "execution_count": 12,
   "metadata": {
    "collapsed": true
   },
   "outputs": [],
   "source": [
    "def check_root(transaction, proof, depth, pos):\n",
    "    pos = 2**depth+pos\n",
    "    count = 0\n",
    "\n",
    "    while pos>1:\n",
    "        if pos%2 == 0:\n",
    "            # Left\n",
    "            input = transaction + proof[count]\n",
    "        else:\n",
    "            # Right\n",
    "            input = proof[count] + transaction\n",
    "\n",
    "        transaction = doubleSha256(input)\n",
    "        print(pos, count, transaction)\n",
    "\n",
    "        pos = pos // 2\n",
    "        count += 1\n",
    "\n",
    "    return invert_byteorder(transaction)"
   ]
  },
  {
   "cell_type": "code",
   "execution_count": 13,
   "metadata": {},
   "outputs": [
    {
     "name": "stdout",
     "output_type": "stream",
     "text": [
      "22 0 066ad6d9939ec0c90b7f3b775122785bd8aca2a2c5857205af7e0615e9af9796\n",
      "11 1 8be15fc2ab11ef3e079568d43b2b09ed5a5690fb13ecb1032f7aab99238a1847\n",
      "5 2 8d9d737b484e96eed701c4b3728aea80aa7f2a7f57125790ed9998f9050a1bef\n",
      "2 3 b152eca4364850f3424c7ac2b337d606c5ca0a3f96f1554f8db33d2f6f130bbe\n"
     ]
    }
   ],
   "source": [
    "root = check_root(transactions[6], proof, 4, 6)"
   ]
  },
  {
   "cell_type": "code",
   "execution_count": 14,
   "metadata": {},
   "outputs": [
    {
     "data": {
      "text/plain": [
       "True"
      ]
     },
     "execution_count": 14,
     "metadata": {},
     "output_type": "execute_result"
    }
   ],
   "source": [
    "root == block[\"mrkl_root\"]"
   ]
  },
  {
   "cell_type": "markdown",
   "metadata": {},
   "source": [
    "Here we had only to perform 4 calculations instead of the original 11."
   ]
  },
  {
   "cell_type": "markdown",
   "metadata": {},
   "source": [
    "# Hash a block header"
   ]
  },
  {
   "cell_type": "markdown",
   "metadata": {},
   "source": [
    "Blocks are represented by the doube sha256 hash of their header contents. Verifying the hash is relatively straight forward. We must simply pack all the relevant information in the correct sequence and then perform the double SHA256 calculation."
   ]
  },
  {
   "cell_type": "code",
   "execution_count": 15,
   "metadata": {
    "collapsed": true
   },
   "outputs": [],
   "source": [
    "def block_hash(block):\n",
    "    # Header version \"01000000\"\n",
    "    header = \"01000000\" + \\\n",
    "             invert_byteorder(block[\"prev_block\"]) +\\\n",
    "             invert_byteorder(block[\"mrkl_root\"]) + \\\n",
    "             invert_byteorder(hex(block[\"time\"])[2:]) + \\\n",
    "             invert_byteorder(hex(block[\"bits\"])[2:])\n",
    "\n",
    "    if block[\"nonce\"] < 0:\n",
    "        header += invert_byteorder(hex(2**32+block[\"nonce\"])[2:]) # Convert to unsigned\n",
    "    else:\n",
    "        header += invert_byteorder(hex(block[\"nonce\"])[2:])\n",
    "\n",
    "    return invert_byteorder(doubleSha256(header))"
   ]
  },
  {
   "cell_type": "markdown",
   "metadata": {},
   "source": [
    "For this particular block, we have:"
   ]
  },
  {
   "cell_type": "code",
   "execution_count": 16,
   "metadata": {},
   "outputs": [
    {
     "name": "stdout",
     "output_type": "stream",
     "text": [
      "0000000000000a3290f20e75860d505ce0e948a1d1d846bec7e39015d242884b\n"
     ]
    }
   ],
   "source": [
    "blockhash = block_hash(block)\n",
    "print(blockhash)"
   ]
  },
  {
   "cell_type": "markdown",
   "metadata": {},
   "source": [
    "And this is indeed the correct value"
   ]
  },
  {
   "cell_type": "code",
   "execution_count": 17,
   "metadata": {},
   "outputs": [
    {
     "data": {
      "text/plain": [
       "True"
      ]
     },
     "execution_count": 17,
     "metadata": {},
     "output_type": "execute_result"
    }
   ],
   "source": [
    "blockhash == block[\"hash\"]"
   ]
  },
  {
   "cell_type": "markdown",
   "metadata": {},
   "source": [
    "We should also note that any change to the block header contents will invalidate the hash by a random amount. For example, if we modify the **nonce** even by a small amount, we obtain something completely different"
   ]
  },
  {
   "cell_type": "code",
   "execution_count": 18,
   "metadata": {
    "collapsed": true
   },
   "outputs": [],
   "source": [
    "block[\"nonce\"] -= 1"
   ]
  },
  {
   "cell_type": "code",
   "execution_count": 19,
   "metadata": {},
   "outputs": [
    {
     "name": "stdout",
     "output_type": "stream",
     "text": [
      "e38fdcc6c7fc14dde8f72300c3d89754b255ec6acbc6c4589fd9052a5eb472f7\n"
     ]
    }
   ],
   "source": [
    "new_blockhash = block_hash(block)\n",
    "print(new_blockhash)"
   ]
  },
  {
   "cell_type": "markdown",
   "metadata": {},
   "source": [
    "# Proof of work"
   ]
  },
  {
   "cell_type": "markdown",
   "metadata": {},
   "source": [
    "As we just saw, miners \"pay\" in computational time by searching for the correct value of the nonce that results in a sufficiently small hash for the entire block. The block difficulty is updated regularly and can be found in the \"bits\" field of the block."
   ]
  },
  {
   "cell_type": "code",
   "execution_count": 20,
   "metadata": {
    "collapsed": true
   },
   "outputs": [],
   "source": [
    "difficulty = hex(block[\"bits\"])"
   ]
  },
  {
   "cell_type": "markdown",
   "metadata": {},
   "source": [
    "This is a bit packed field where the first 4 bytes define the exponent and the remainig digits the coefficient value"
   ]
  },
  {
   "cell_type": "code",
   "execution_count": 21,
   "metadata": {
    "collapsed": true
   },
   "outputs": [],
   "source": [
    "hash_target = difficulty[4:] # Coefficient\n",
    "hash_target += \"00\"*(int(difficulty[:4], 0)-3) # Pad with the zeros on the right\n",
    "hash_target = \"0\"*(64-len(hash_target)) + hash_target # Add missing zeros on the left for expected size "
   ]
  },
  {
   "cell_type": "markdown",
   "metadata": {},
   "source": [
    "In Hex (and dec), this the number we are trying to beat. The miner will keep modifying the \"nonce\" value until the hash of the block is **smaller** than this value."
   ]
  },
  {
   "cell_type": "code",
   "execution_count": 22,
   "metadata": {},
   "outputs": [
    {
     "name": "stdout",
     "output_type": "stream",
     "text": [
      "0000000000000b6d4b0000000000000000000000000000000000000000000000 18362361570655080300849714079315004638119732162003921272832000\n"
     ]
    }
   ],
   "source": [
    "print(hash_target, int(\"0x\"+hash_target, 0))"
   ]
  },
  {
   "cell_type": "markdown",
   "metadata": {},
   "source": [
    "The hash of the current block is:"
   ]
  },
  {
   "cell_type": "code",
   "execution_count": 23,
   "metadata": {},
   "outputs": [
    {
     "name": "stdout",
     "output_type": "stream",
     "text": [
      "0000000000000a3290f20e75860d505ce0e948a1d1d846bec7e39015d242884b 16386789583490230259545288182434459053535275237905118869489739\n"
     ]
    }
   ],
   "source": [
    "print(block[\"hash\"], int(\"0x\"+block[\"hash\"], 0))"
   ]
  },
  {
   "cell_type": "markdown",
   "metadata": {},
   "source": [
    "and we can easily verify that indeed the block hash is below this value"
   ]
  },
  {
   "cell_type": "code",
   "execution_count": 24,
   "metadata": {},
   "outputs": [
    {
     "data": {
      "text/plain": [
       "True"
      ]
     },
     "execution_count": 24,
     "metadata": {},
     "output_type": "execute_result"
    }
   ],
   "source": [
    "int(\"0x\"+hash_target, 0) > int(\"0x\"+block[\"hash\"], 0)"
   ]
  },
  {
   "cell_type": "markdown",
   "metadata": {},
   "source": [
    "So we can be confident that this is indeed a valid block"
   ]
  }
 ],
 "metadata": {
  "anaconda-cloud": {},
  "kernelspec": {
   "display_name": "Python [conda env:py35]",
   "language": "python",
   "name": "conda-env-py35-py"
  },
  "language_info": {
   "codemirror_mode": {
    "name": "ipython",
    "version": 3
   },
   "file_extension": ".py",
   "mimetype": "text/x-python",
   "name": "python",
   "nbconvert_exporter": "python",
   "pygments_lexer": "ipython3",
   "version": "3.5.2"
  }
 },
 "nbformat": 4,
 "nbformat_minor": 2
}
